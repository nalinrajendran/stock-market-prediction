{
 "cells": [
  {
   "cell_type": "code",
   "execution_count": 1,
   "id": "eacc56bd",
   "metadata": {},
   "outputs": [],
   "source": [
    "import pandas as pd"
   ]
  },
  {
   "cell_type": "code",
   "execution_count": 2,
   "id": "d8000017",
   "metadata": {},
   "outputs": [],
   "source": [
    "import keras"
   ]
  },
  {
   "cell_type": "code",
   "execution_count": 3,
   "id": "4df528bd",
   "metadata": {},
   "outputs": [],
   "source": [
    "import tensorflow"
   ]
  },
  {
   "cell_type": "code",
   "execution_count": 4,
   "id": "85f65644",
   "metadata": {},
   "outputs": [],
   "source": [
    "import matplotlib.pyplot as plt\n",
    "%matplotlib inline"
   ]
  },
  {
   "cell_type": "code",
   "execution_count": 5,
   "id": "4ee53285",
   "metadata": {},
   "outputs": [],
   "source": [
    "df = pd.read_csv(\"ZOMATO.NS.csv\")"
   ]
  },
  {
   "cell_type": "code",
   "execution_count": 6,
   "id": "5b1cc8b8",
   "metadata": {},
   "outputs": [
    {
     "data": {
      "text/html": [
       "<div>\n",
       "<style scoped>\n",
       "    .dataframe tbody tr th:only-of-type {\n",
       "        vertical-align: middle;\n",
       "    }\n",
       "\n",
       "    .dataframe tbody tr th {\n",
       "        vertical-align: top;\n",
       "    }\n",
       "\n",
       "    .dataframe thead th {\n",
       "        text-align: right;\n",
       "    }\n",
       "</style>\n",
       "<table border=\"1\" class=\"dataframe\">\n",
       "  <thead>\n",
       "    <tr style=\"text-align: right;\">\n",
       "      <th></th>\n",
       "      <th>Date</th>\n",
       "      <th>Open</th>\n",
       "      <th>High</th>\n",
       "      <th>Low</th>\n",
       "      <th>Close</th>\n",
       "      <th>Adj Close</th>\n",
       "      <th>Volume</th>\n",
       "    </tr>\n",
       "  </thead>\n",
       "  <tbody>\n",
       "    <tr>\n",
       "      <th>0</th>\n",
       "      <td>2021-07-23</td>\n",
       "      <td>116.000000</td>\n",
       "      <td>138.899994</td>\n",
       "      <td>115.000000</td>\n",
       "      <td>126.000000</td>\n",
       "      <td>126.000000</td>\n",
       "      <td>694895290</td>\n",
       "    </tr>\n",
       "    <tr>\n",
       "      <th>1</th>\n",
       "      <td>2021-07-26</td>\n",
       "      <td>126.349998</td>\n",
       "      <td>143.750000</td>\n",
       "      <td>125.300003</td>\n",
       "      <td>140.649994</td>\n",
       "      <td>140.649994</td>\n",
       "      <td>249723854</td>\n",
       "    </tr>\n",
       "    <tr>\n",
       "      <th>2</th>\n",
       "      <td>2021-07-27</td>\n",
       "      <td>141.699997</td>\n",
       "      <td>147.800003</td>\n",
       "      <td>127.750000</td>\n",
       "      <td>132.899994</td>\n",
       "      <td>132.899994</td>\n",
       "      <td>240341900</td>\n",
       "    </tr>\n",
       "    <tr>\n",
       "      <th>3</th>\n",
       "      <td>2021-07-28</td>\n",
       "      <td>131.000000</td>\n",
       "      <td>135.000000</td>\n",
       "      <td>123.550003</td>\n",
       "      <td>131.199997</td>\n",
       "      <td>131.199997</td>\n",
       "      <td>159793731</td>\n",
       "    </tr>\n",
       "    <tr>\n",
       "      <th>4</th>\n",
       "      <td>2021-07-29</td>\n",
       "      <td>134.949997</td>\n",
       "      <td>144.000000</td>\n",
       "      <td>132.199997</td>\n",
       "      <td>141.550003</td>\n",
       "      <td>141.550003</td>\n",
       "      <td>117973089</td>\n",
       "    </tr>\n",
       "  </tbody>\n",
       "</table>\n",
       "</div>"
      ],
      "text/plain": [
       "         Date        Open        High         Low       Close   Adj Close  \\\n",
       "0  2021-07-23  116.000000  138.899994  115.000000  126.000000  126.000000   \n",
       "1  2021-07-26  126.349998  143.750000  125.300003  140.649994  140.649994   \n",
       "2  2021-07-27  141.699997  147.800003  127.750000  132.899994  132.899994   \n",
       "3  2021-07-28  131.000000  135.000000  123.550003  131.199997  131.199997   \n",
       "4  2021-07-29  134.949997  144.000000  132.199997  141.550003  141.550003   \n",
       "\n",
       "      Volume  \n",
       "0  694895290  \n",
       "1  249723854  \n",
       "2  240341900  \n",
       "3  159793731  \n",
       "4  117973089  "
      ]
     },
     "execution_count": 6,
     "metadata": {},
     "output_type": "execute_result"
    }
   ],
   "source": [
    "df.head()"
   ]
  },
  {
   "cell_type": "code",
   "execution_count": 7,
   "id": "c0cf7b6b",
   "metadata": {},
   "outputs": [
    {
     "data": {
      "text/html": [
       "<div>\n",
       "<style scoped>\n",
       "    .dataframe tbody tr th:only-of-type {\n",
       "        vertical-align: middle;\n",
       "    }\n",
       "\n",
       "    .dataframe tbody tr th {\n",
       "        vertical-align: top;\n",
       "    }\n",
       "\n",
       "    .dataframe thead th {\n",
       "        text-align: right;\n",
       "    }\n",
       "</style>\n",
       "<table border=\"1\" class=\"dataframe\">\n",
       "  <thead>\n",
       "    <tr style=\"text-align: right;\">\n",
       "      <th></th>\n",
       "      <th>Date</th>\n",
       "      <th>Open</th>\n",
       "      <th>High</th>\n",
       "      <th>Low</th>\n",
       "      <th>Close</th>\n",
       "      <th>Adj Close</th>\n",
       "      <th>Volume</th>\n",
       "    </tr>\n",
       "  </thead>\n",
       "  <tbody>\n",
       "    <tr>\n",
       "      <th>265</th>\n",
       "      <td>2022-08-17</td>\n",
       "      <td>64.800003</td>\n",
       "      <td>65.599998</td>\n",
       "      <td>61.799999</td>\n",
       "      <td>65.250000</td>\n",
       "      <td>65.250000</td>\n",
       "      <td>258066522</td>\n",
       "    </tr>\n",
       "    <tr>\n",
       "      <th>266</th>\n",
       "      <td>2022-08-18</td>\n",
       "      <td>65.599998</td>\n",
       "      <td>69.250000</td>\n",
       "      <td>65.000000</td>\n",
       "      <td>67.099998</td>\n",
       "      <td>67.099998</td>\n",
       "      <td>303566868</td>\n",
       "    </tr>\n",
       "    <tr>\n",
       "      <th>267</th>\n",
       "      <td>2022-08-19</td>\n",
       "      <td>67.400002</td>\n",
       "      <td>68.250000</td>\n",
       "      <td>60.150002</td>\n",
       "      <td>61.450001</td>\n",
       "      <td>61.450001</td>\n",
       "      <td>295737752</td>\n",
       "    </tr>\n",
       "    <tr>\n",
       "      <th>268</th>\n",
       "      <td>2022-08-22</td>\n",
       "      <td>61.000000</td>\n",
       "      <td>62.849998</td>\n",
       "      <td>59.250000</td>\n",
       "      <td>62.000000</td>\n",
       "      <td>62.000000</td>\n",
       "      <td>226773007</td>\n",
       "    </tr>\n",
       "    <tr>\n",
       "      <th>269</th>\n",
       "      <td>2022-08-23</td>\n",
       "      <td>62.299999</td>\n",
       "      <td>65.250000</td>\n",
       "      <td>62.150002</td>\n",
       "      <td>64.449997</td>\n",
       "      <td>64.449997</td>\n",
       "      <td>218585102</td>\n",
       "    </tr>\n",
       "  </tbody>\n",
       "</table>\n",
       "</div>"
      ],
      "text/plain": [
       "           Date       Open       High        Low      Close  Adj Close  \\\n",
       "265  2022-08-17  64.800003  65.599998  61.799999  65.250000  65.250000   \n",
       "266  2022-08-18  65.599998  69.250000  65.000000  67.099998  67.099998   \n",
       "267  2022-08-19  67.400002  68.250000  60.150002  61.450001  61.450001   \n",
       "268  2022-08-22  61.000000  62.849998  59.250000  62.000000  62.000000   \n",
       "269  2022-08-23  62.299999  65.250000  62.150002  64.449997  64.449997   \n",
       "\n",
       "        Volume  \n",
       "265  258066522  \n",
       "266  303566868  \n",
       "267  295737752  \n",
       "268  226773007  \n",
       "269  218585102  "
      ]
     },
     "execution_count": 7,
     "metadata": {},
     "output_type": "execute_result"
    }
   ],
   "source": [
    "df.tail()"
   ]
  },
  {
   "cell_type": "code",
   "execution_count": 8,
   "id": "295d0c4a",
   "metadata": {},
   "outputs": [
    {
     "data": {
      "text/plain": [
       "<AxesSubplot:>"
      ]
     },
     "execution_count": 8,
     "metadata": {},
     "output_type": "execute_result"
    },
    {
     "data": {
      "image/png": "[encoded data removed]",
      "text/plain": [
       "<Figure size 432x288 with 1 Axes>"
      ]
     },
     "metadata": {
      "needs_background": "light"
     },
     "output_type": "display_data"
    }
   ],
   "source": [
    "df[\"Open\"].hist()"
   ]
  },
  {
   "cell_type": "code",
   "execution_count": 9,
   "id": "4691fc0d",
   "metadata": {},
   "outputs": [
    {
     "data": {
      "text/plain": [
       "<AxesSubplot:>"
      ]
     },
     "execution_count": 9,
     "metadata": {},
     "output_type": "execute_result"
    },
    {
     "data": {
      "image/png": "[encoded data removed]",
      "text/plain": [
       "<Figure size 432x288 with 1 Axes>"
      ]
     },
     "metadata": {
      "needs_background": "light"
     },
     "output_type": "display_data"
    }
   ],
   "source": [
    "df[\"High\"].hist()"
   ]
  },
  {
   "cell_type": "code",
   "execution_count": 10,
   "id": "7bd27e07",
   "metadata": {},
   "outputs": [
    {
     "data": {
      "text/plain": [
       "<AxesSubplot:>"
      ]
     },
     "execution_count": 10,
     "metadata": {},
     "output_type": "execute_result"
    },
    {
     "data": {
      "image/png": "[encoded data removed]",
      "text/plain": [
       "<Figure size 432x288 with 1 Axes>"
      ]
     },
     "metadata": {
      "needs_background": "light"
     },
     "output_type": "display_data"
    }
   ],
   "source": [
    "df[\"Close\"].hist()"
   ]
  },
  {
   "cell_type": "code",
   "execution_count": 28,
   "id": "06340cd3",
   "metadata": {},
   "outputs": [],
   "source": [
    "df1 = df.reset_index()['Close']"
   ]
  },
  {
   "cell_type": "code",
   "execution_count": 29,
   "id": "22757721",
   "metadata": {},
   "outputs": [
    {
     "data": {
      "text/plain": [
       "(270,)"
      ]
     },
     "execution_count": 29,
     "metadata": {},
     "output_type": "execute_result"
    }
   ],
   "source": [
    "df1.shape"
   ]
  },
  {
   "cell_type": "code",
   "execution_count": 30,
   "id": "4591bde0",
   "metadata": {},
   "outputs": [
    {
     "data": {
      "text/plain": [
       "[<matplotlib.lines.Line2D at 0x7f8f11d7b160>]"
      ]
     },
     "execution_count": 30,
     "metadata": {},
     "output_type": "execute_result"
    },
    {
     "data": {
      "image/png": "[encoded data removed]",
      "text/plain": [
       "<Figure size 432x288 with 1 Axes>"
      ]
     },
     "metadata": {
      "needs_background": "light"
     },
     "output_type": "display_data"
    }
   ],
   "source": [
    "plt.plot(df1)"
   ]
  },
  {
   "cell_type": "code",
   "execution_count": 31,
   "id": "b4f1015e",
   "metadata": {},
   "outputs": [],
   "source": [
    "import numpy as np"
   ]
  },
  {
   "cell_type": "code",
   "execution_count": 32,
   "id": "cda09a7f",
   "metadata": {},
   "outputs": [
    {
     "data": {
      "text/plain": [
       "0      126.000000\n",
       "1      140.649994\n",
       "2      132.899994\n",
       "3      131.199997\n",
       "4      141.550003\n",
       "          ...    \n",
       "265     65.250000\n",
       "266     67.099998\n",
       "267     61.450001\n",
       "268     62.000000\n",
       "269     64.449997\n",
       "Name: Close, Length: 270, dtype: float64"
      ]
     },
     "execution_count": 32,
     "metadata": {},
     "output_type": "execute_result"
    }
   ],
   "source": [
    "df1"
   ]
  },
  {
   "cell_type": "code",
   "execution_count": 33,
   "id": "65a22253",
   "metadata": {},
   "outputs": [],
   "source": [
    "from sklearn.preprocessing import MinMaxScaler\n",
    "scaler = MinMaxScaler(feature_range=(0,1))\n",
    "df1 = scaler.fit_transform(np.array(df1).reshape(-1,1))"
   ]
  },
  {
   "cell_type": "code",
   "execution_count": 34,
   "id": "410aaa27",
   "metadata": {},
   "outputs": [
    {
     "data": {
      "text/plain": [
       "(270, 1)"
      ]
     },
     "execution_count": 34,
     "metadata": {},
     "output_type": "execute_result"
    }
   ],
   "source": [
    "df1.shape"
   ]
  },
  {
   "cell_type": "code",
   "execution_count": 35,
   "id": "8acd50b8",
   "metadata": {},
   "outputs": [
    {
     "name": "stdout",
     "output_type": "stream",
     "text": [
      "[[0.71091443]\n",
      " [0.83438678]\n",
      " [0.76906862]\n",
      " [0.75474079]\n",
      " [0.84197219]\n",
      " [0.77412556]\n",
      " [0.82638006]\n",
      " [0.82385159]\n",
      " [0.81542344]\n",
      " [0.78634635]\n",
      " [0.75600508]\n",
      " [0.74968397]\n",
      " [0.70417189]\n",
      " [0.79224603]\n",
      " [0.79056042]\n",
      " [0.80657398]\n",
      " [0.78634635]\n",
      " [0.76569741]\n",
      " [0.78634635]\n",
      " [0.82300885]\n",
      " [0.72144962]\n",
      " [0.70248628]\n",
      " [0.69616517]\n",
      " [0.70965019]\n",
      " [0.69995781]\n",
      " [0.77454699]\n",
      " [0.78297514]\n",
      " [0.76654027]\n",
      " [0.80868102]\n",
      " [0.91108299]\n",
      " [0.86304256]\n",
      " [0.82932996]\n",
      " [0.83944372]\n",
      " [0.84239362]\n",
      " [0.85545715]\n",
      " [0.863464  ]\n",
      " [0.85124308]\n",
      " [0.84618626]\n",
      " [0.81120937]\n",
      " [0.7808681 ]\n",
      " [0.77370412]\n",
      " [0.7623262 ]\n",
      " [0.80615255]\n",
      " [0.80067418]\n",
      " [0.86009266]\n",
      " [0.82048038]\n",
      " [0.81626631]\n",
      " [0.80025287]\n",
      " [0.81205223]\n",
      " [0.82132325]\n",
      " [0.8116308 ]\n",
      " [0.78634635]\n",
      " [0.80446695]\n",
      " [0.7964601 ]\n",
      " [0.80235991]\n",
      " [0.80025287]\n",
      " [0.79056042]\n",
      " [0.78676778]\n",
      " [0.86304256]\n",
      " [0.81668774]\n",
      " [0.81120937]\n",
      " [0.8133164 ]\n",
      " [0.80994519]\n",
      " [0.76738301]\n",
      " [0.79056042]\n",
      " [0.78508218]\n",
      " [0.79182472]\n",
      " [0.75769069]\n",
      " [0.76696158]\n",
      " [0.76527597]\n",
      " [0.73072063]\n",
      " [0.75600508]\n",
      " [0.75431935]\n",
      " [0.80910233]\n",
      " [0.79561736]\n",
      " [0.83649382]\n",
      " [0.93847448]\n",
      " [1.        ]\n",
      " [0.97724402]\n",
      " [0.96839444]\n",
      " [0.95280231]\n",
      " [0.91108299]\n",
      " [0.90223341]\n",
      " [0.95954485]\n",
      " [0.99536449]\n",
      " [0.8975979 ]\n",
      " [0.90560475]\n",
      " [0.93468184]\n",
      " [0.92498939]\n",
      " [0.91866828]\n",
      " [0.87020641]\n",
      " [0.81668774]\n",
      " [0.82722293]\n",
      " [0.89296252]\n",
      " [0.88158447]\n",
      " [0.83354404]\n",
      " [0.85124308]\n",
      " [0.83438678]\n",
      " [0.83396547]\n",
      " [0.81542344]\n",
      " [0.78971768]\n",
      " [0.71554994]\n",
      " [0.75811212]\n",
      " [0.81753048]\n",
      " [0.76991148]\n",
      " [0.75684782]\n",
      " [0.76780444]\n",
      " [0.76864731]\n",
      " [0.80446695]\n",
      " [0.7779182 ]\n",
      " [0.80699529]\n",
      " [0.84028658]\n",
      " [0.81500213]\n",
      " [0.7779182 ]\n",
      " [0.74462703]\n",
      " [0.73830592]\n",
      " [0.74631264]\n",
      " [0.75558365]\n",
      " [0.76359037]\n",
      " [0.77075435]\n",
      " [0.77496842]\n",
      " [0.77833963]\n",
      " [0.77033291]\n",
      " [0.73788449]\n",
      " [0.70417189]\n",
      " [0.6068268 ]\n",
      " [0.41887902]\n",
      " [0.49557517]\n",
      " [0.41171511]\n",
      " [0.40370839]\n",
      " [0.41087231]\n",
      " [0.44584914]\n",
      " [0.48251158]\n",
      " [0.46734088]\n",
      " [0.44289924]\n",
      " [0.43742099]\n",
      " [0.43742099]\n",
      " [0.44289924]\n",
      " [0.44500628]\n",
      " [0.39654441]\n",
      " [0.34386848]\n",
      " [0.34597551]\n",
      " [0.36493885]\n",
      " [0.40033712]\n",
      " [0.37294564]\n",
      " [0.33628319]\n",
      " [0.32069106]\n",
      " [0.35819637]\n",
      " [0.31057731]\n",
      " [0.31310578]\n",
      " [0.3227981 ]\n",
      " [0.32195529]\n",
      " [0.34176144]\n",
      " [0.32490514]\n",
      " [0.31479138]\n",
      " [0.30762747]\n",
      " [0.32616937]\n",
      " [0.34176144]\n",
      " [0.32237674]\n",
      " [0.31731985]\n",
      " [0.29414244]\n",
      " [0.2890855 ]\n",
      " [0.33038344]\n",
      " [0.32659081]\n",
      " [0.33291192]\n",
      " [0.32954065]\n",
      " [0.32616937]\n",
      " [0.32827641]\n",
      " [0.3202697 ]\n",
      " [0.30804884]\n",
      " [0.36578172]\n",
      " [0.3426043 ]\n",
      " [0.3594606 ]\n",
      " [0.37589547]\n",
      " [0.35608934]\n",
      " [0.36156764]\n",
      " [0.34428991]\n",
      " [0.35187526]\n",
      " [0.36072478]\n",
      " [0.33586176]\n",
      " [0.35608934]\n",
      " [0.34766119]\n",
      " [0.32701218]\n",
      " [0.325748  ]\n",
      " [0.32996208]\n",
      " [0.33333329]\n",
      " [0.31268435]\n",
      " [0.31984826]\n",
      " [0.28824269]\n",
      " [0.27138639]\n",
      " [0.2536873 ]\n",
      " [0.23472396]\n",
      " [0.19216178]\n",
      " [0.16434892]\n",
      " [0.15887061]\n",
      " [0.12726505]\n",
      " [0.09102401]\n",
      " [0.10577327]\n",
      " [0.08680994]\n",
      " [0.12810785]\n",
      " [0.12431521]\n",
      " [0.12220817]\n",
      " [0.14412135]\n",
      " [0.11546562]\n",
      " [0.13822163]\n",
      " [0.12979348]\n",
      " [0.19637585]\n",
      " [0.17404127]\n",
      " [0.15844921]\n",
      " [0.17193423]\n",
      " [0.24778762]\n",
      " [0.27812895]\n",
      " [0.27855031]\n",
      " [0.2553729 ]\n",
      " [0.25705857]\n",
      " [0.23809524]\n",
      " [0.20016856]\n",
      " [0.21491782]\n",
      " [0.22798141]\n",
      " [0.23050988]\n",
      " [0.21786766]\n",
      " [0.23893803]\n",
      " [0.24062364]\n",
      " [0.21533919]\n",
      " [0.21407502]\n",
      " [0.19679728]\n",
      " [0.20564687]\n",
      " [0.21871046]\n",
      " [0.23514539]\n",
      " [0.24315211]\n",
      " [0.2039612 ]\n",
      " [0.15718497]\n",
      " [0.13190052]\n",
      " [0.1028234 ]\n",
      " [0.12220817]\n",
      " [0.10661607]\n",
      " [0.11630846]\n",
      " [0.10703747]\n",
      " [0.10788031]\n",
      " [0.11083015]\n",
      " [0.12178673]\n",
      " [0.14622838]\n",
      " [0.14075007]\n",
      " [0.1179941 ]\n",
      " [0.10324484]\n",
      " [0.10071636]\n",
      " [0.10366624]\n",
      " [0.09903076]\n",
      " [0.09987356]\n",
      " [0.1011378 ]\n",
      " [0.05014746]\n",
      " [0.        ]\n",
      " [0.01938474]\n",
      " [0.034134  ]\n",
      " [0.04340495]\n",
      " [0.03919087]\n",
      " [0.11715126]\n",
      " [0.11630846]\n",
      " [0.136536  ]\n",
      " [0.10914451]\n",
      " [0.11630846]\n",
      " [0.12052254]\n",
      " [0.13695744]\n",
      " [0.1694058 ]\n",
      " [0.19047617]\n",
      " [0.19890432]\n",
      " [0.21449638]\n",
      " [0.16687736]\n",
      " [0.17151283]\n",
      " [0.19216178]]\n"
     ]
    }
   ],
   "source": [
    "print(df1)"
   ]
  },
  {
   "cell_type": "code",
   "execution_count": 36,
   "id": "3e53e063",
   "metadata": {},
   "outputs": [],
   "source": [
    "## TRAIN TEST ABD SPLIT"
   ]
  },
  {
   "cell_type": "code",
   "execution_count": 45,
   "id": "8e166a0e",
   "metadata": {},
   "outputs": [],
   "source": [
    "training_size = int(len(df1)*0.70)\n",
    "test_size= len(df1)-training_size\n",
    "\n",
    "train_data,test_data = df1[0:training_size,:],df1[training_size:len(df1),:1]\n"
   ]
  },
  {
   "cell_type": "code",
   "execution_count": 46,
   "id": "63616a96",
   "metadata": {},
   "outputs": [
    {
     "data": {
      "text/plain": [
       "(189, 81)"
      ]
     },
     "execution_count": 46,
     "metadata": {},
     "output_type": "execute_result"
    }
   ],
   "source": [
    "training_size, test_size"
   ]
  },
  {
   "cell_type": "code",
   "execution_count": 47,
   "id": "d525772a",
   "metadata": {},
   "outputs": [],
   "source": [
    "#Now splitting the dataset for time series and making it into a matrix"
   ]
  },
  {
   "cell_type": "code",
   "execution_count": 48,
   "id": "ee4e56e3",
   "metadata": {},
   "outputs": [],
   "source": [
    "def create_dataset (dataset,time_step=1):\n",
    "    dataX, dataY = [], []\n",
    "    for i in range(len(dataset)-time_step-1):\n",
    "        a = dataset[i:(i+time_step),0]\n",
    "        dataX.append(a)\n",
    "        dataY.append(dataset[i+time_step, 0])\n",
    "    return np.array(dataX), np.array(dataY)\n",
    "        "
   ]
  },
  {
   "cell_type": "code",
   "execution_count": 49,
   "id": "16f95f92",
   "metadata": {},
   "outputs": [],
   "source": [
    "time_step = 100\n",
    "X_train, y_train = create_dataset(train_data, time_step)\n",
    "X_test, y_test = create_dataset(test_data, time_step)"
   ]
  },
  {
   "cell_type": "code",
   "execution_count": 50,
   "id": "a0c1cab7",
   "metadata": {},
   "outputs": [
    {
     "name": "stdout",
     "output_type": "stream",
     "text": [
      "(88, 100)\n",
      "(88,)\n"
     ]
    },
    {
     "data": {
      "text/plain": [
       "(None, None)"
      ]
     },
     "execution_count": 50,
     "metadata": {},
     "output_type": "execute_result"
    }
   ],
   "source": [
    "print(X_train.shape), print(y_train.shape)"
   ]
  },
  {
   "cell_type": "code",
   "execution_count": 51,
   "id": "cfba02d5",
   "metadata": {},
   "outputs": [
    {
     "name": "stdout",
     "output_type": "stream",
     "text": [
      "(0,)\n",
      "(0,)\n"
     ]
    },
    {
     "data": {
      "text/plain": [
       "(None, None)"
      ]
     },
     "execution_count": 51,
     "metadata": {},
     "output_type": "execute_result"
    }
   ],
   "source": [
    "print(X_test.shape), print(y_test.shape)"
   ]
  },
  {
   "cell_type": "code",
   "execution_count": 52,
   "id": "89e67ba1",
   "metadata": {},
   "outputs": [
    {
     "ename": "IndexError",
     "evalue": "tuple index out of range",
     "output_type": "error",
     "traceback": [
      "\u001b[0;31m---------------------------------------------------------------------------\u001b[0m",
      "\u001b[0;31mIndexError\u001b[0m                                Traceback (most recent call last)",
      "Input \u001b[0;32mIn [52]\u001b[0m, in \u001b[0;36m<module>\u001b[0;34m\u001b[0m\n\u001b[1;32m      1\u001b[0m \u001b[38;5;66;03m#Now modelling it for LSTM\u001b[39;00m\n\u001b[1;32m      2\u001b[0m \u001b[38;5;66;03m#For LSTM the shape should be of 3-d, so we are adding 1 at the end of the train and test.\u001b[39;00m\n\u001b[1;32m      3\u001b[0m \u001b[38;5;66;03m#The reshaped input should be in the form of [samples,timesteps,features]\u001b[39;00m\n\u001b[1;32m      5\u001b[0m X_train \u001b[38;5;241m=\u001b[39m X_train\u001b[38;5;241m.\u001b[39mreshape(X_train\u001b[38;5;241m.\u001b[39mshape[\u001b[38;5;241m0\u001b[39m], X_train\u001b[38;5;241m.\u001b[39mshape[\u001b[38;5;241m1\u001b[39m], \u001b[38;5;241m1\u001b[39m)\n\u001b[0;32m----> 6\u001b[0m X_test \u001b[38;5;241m=\u001b[39m X_test\u001b[38;5;241m.\u001b[39mreshape(X_test\u001b[38;5;241m.\u001b[39mshape[\u001b[38;5;241m0\u001b[39m], \u001b[43mX_test\u001b[49m\u001b[38;5;241;43m.\u001b[39;49m\u001b[43mshape\u001b[49m\u001b[43m[\u001b[49m\u001b[38;5;241;43m1\u001b[39;49m\u001b[43m]\u001b[49m, \u001b[38;5;241m1\u001b[39m)\n",
      "\u001b[0;31mIndexError\u001b[0m: tuple index out of range"
     ]
    }
   ],
   "source": [
    "#Now modelling it for LSTM\n",
    "#For LSTM the shape should be of 3-d, so we are adding 1 at the end of the train and test.\n",
    "#The reshaped input should be in the form of [samples,timesteps,features]\n",
    "\n",
    "X_train = X_train.reshape(X_train.shape[0], X_train.shape[1], 1)\n",
    "X_test = X_test.reshape(X_test.shape[0], X_test.shape[1], 1)\n",
    "\n"
   ]
  },
  {
   "cell_type": "code",
   "execution_count": 53,
   "id": "dc0b956e",
   "metadata": {},
   "outputs": [],
   "source": [
    "#Creating a Stacked LSTM model\n"
   ]
  },
  {
   "cell_type": "code",
   "execution_count": 54,
   "id": "a46be836",
   "metadata": {},
   "outputs": [],
   "source": [
    "from tensorflow.keras.models import Sequential\n",
    "from tensorflow.keras.layers import Dense\n",
    "from tensorflow.keras.layers import LSTM\n",
    "\n"
   ]
  },
  {
   "cell_type": "code",
   "execution_count": 55,
   "id": "5ad9a136",
   "metadata": {},
   "outputs": [],
   "source": [
    "model = Sequential()\n",
    "model.add(LSTM(50,return_sequences=True, input_shape=(100,1)))\n",
    "model.add(LSTM(50,return_sequences=True))\n",
    "model.add(LSTM(50))\n",
    "model.add(Dense(1))\n",
    "model.compile(loss='mean_squared_error', optimizer = \"adam\")"
   ]
  },
  {
   "cell_type": "code",
   "execution_count": 56,
   "id": "99d8a2b6",
   "metadata": {},
   "outputs": [
    {
     "name": "stdout",
     "output_type": "stream",
     "text": [
      "Model: \"sequential\"\n",
      "_________________________________________________________________\n",
      " Layer (type)                Output Shape              Param #   \n",
      "=================================================================\n",
      " lstm (LSTM)                 (None, 100, 50)           10400     \n",
      "                                                                 \n",
      " lstm_1 (LSTM)               (None, 100, 50)           20200     \n",
      "                                                                 \n",
      " lstm_2 (LSTM)               (None, 50)                20200     \n",
      "                                                                 \n",
      " dense (Dense)               (None, 1)                 51        \n",
      "                                                                 \n",
      "=================================================================\n",
      "Total params: 50,851\n",
      "Trainable params: 50,851\n",
      "Non-trainable params: 0\n",
      "_________________________________________________________________\n"
     ]
    }
   ],
   "source": [
    "model.summary()"
   ]
  },
  {
   "cell_type": "code",
   "execution_count": 57,
   "id": "88a42c37",
   "metadata": {},
   "outputs": [
    {
     "name": "stdout",
     "output_type": "stream",
     "text": [
      "Epoch 1/100\n",
      "2/2 [==============================] - 4s 155ms/step - loss: 0.2571\n",
      "Epoch 2/100\n",
      "2/2 [==============================] - 0s 114ms/step - loss: 0.1241\n",
      "Epoch 3/100\n",
      "2/2 [==============================] - 0s 114ms/step - loss: 0.0262\n",
      "Epoch 4/100\n",
      "2/2 [==============================] - 0s 117ms/step - loss: 0.0468\n",
      "Epoch 5/100\n",
      "2/2 [==============================] - 0s 112ms/step - loss: 0.0357\n",
      "Epoch 6/100\n",
      "2/2 [==============================] - 0s 111ms/step - loss: 0.0096\n",
      "Epoch 7/100\n",
      "2/2 [==============================] - 0s 110ms/step - loss: 0.0180\n",
      "Epoch 8/100\n",
      "2/2 [==============================] - 0s 191ms/step - loss: 0.0261\n",
      "Epoch 9/100\n",
      "2/2 [==============================] - 0s 116ms/step - loss: 0.0245\n",
      "Epoch 10/100\n",
      "2/2 [==============================] - 0s 110ms/step - loss: 0.0171\n",
      "Epoch 11/100\n",
      "2/2 [==============================] - 0s 112ms/step - loss: 0.0101\n",
      "Epoch 12/100\n",
      "2/2 [==============================] - 0s 212ms/step - loss: 0.0107\n",
      "Epoch 13/100\n",
      "2/2 [==============================] - 0s 109ms/step - loss: 0.0146\n",
      "Epoch 14/100\n",
      "2/2 [==============================] - 0s 112ms/step - loss: 0.0141\n",
      "Epoch 15/100\n",
      "2/2 [==============================] - 0s 113ms/step - loss: 0.0104\n",
      "Epoch 16/100\n",
      "2/2 [==============================] - 0s 114ms/step - loss: 0.0093\n",
      "Epoch 17/100\n",
      "2/2 [==============================] - 0s 105ms/step - loss: 0.0096\n",
      "Epoch 18/100\n",
      "2/2 [==============================] - 0s 109ms/step - loss: 0.0103\n",
      "Epoch 19/100\n",
      "2/2 [==============================] - 0s 112ms/step - loss: 0.0097\n",
      "Epoch 20/100\n",
      "2/2 [==============================] - 0s 110ms/step - loss: 0.0082\n",
      "Epoch 21/100\n",
      "2/2 [==============================] - 0s 110ms/step - loss: 0.0077\n",
      "Epoch 22/100\n",
      "2/2 [==============================] - 0s 112ms/step - loss: 0.0088\n",
      "Epoch 23/100\n",
      "2/2 [==============================] - 0s 112ms/step - loss: 0.0091\n",
      "Epoch 24/100\n",
      "2/2 [==============================] - 0s 112ms/step - loss: 0.0079\n",
      "Epoch 25/100\n",
      "2/2 [==============================] - 0s 112ms/step - loss: 0.0072\n",
      "Epoch 26/100\n",
      "2/2 [==============================] - 0s 112ms/step - loss: 0.0074\n",
      "Epoch 27/100\n",
      "2/2 [==============================] - 0s 111ms/step - loss: 0.0078\n",
      "Epoch 28/100\n",
      "2/2 [==============================] - 0s 122ms/step - loss: 0.0070\n",
      "Epoch 29/100\n",
      "2/2 [==============================] - 0s 158ms/step - loss: 0.0066\n",
      "Epoch 30/100\n",
      "2/2 [==============================] - 0s 174ms/step - loss: 0.0072\n",
      "Epoch 31/100\n",
      "2/2 [==============================] - 0s 112ms/step - loss: 0.0074\n",
      "Epoch 32/100\n",
      "2/2 [==============================] - 0s 201ms/step - loss: 0.0065\n",
      "Epoch 33/100\n",
      "2/2 [==============================] - 0s 181ms/step - loss: 0.0065\n",
      "Epoch 34/100\n",
      "2/2 [==============================] - 0s 120ms/step - loss: 0.0066\n",
      "Epoch 35/100\n",
      "2/2 [==============================] - 0s 112ms/step - loss: 0.0064\n",
      "Epoch 36/100\n",
      "2/2 [==============================] - 0s 112ms/step - loss: 0.0060\n",
      "Epoch 37/100\n",
      "2/2 [==============================] - 0s 115ms/step - loss: 0.0061\n",
      "Epoch 38/100\n",
      "2/2 [==============================] - 0s 116ms/step - loss: 0.0063\n",
      "Epoch 39/100\n",
      "2/2 [==============================] - 0s 115ms/step - loss: 0.0061\n",
      "Epoch 40/100\n",
      "2/2 [==============================] - 0s 198ms/step - loss: 0.0059\n",
      "Epoch 41/100\n",
      "2/2 [==============================] - 0s 140ms/step - loss: 0.0059\n",
      "Epoch 42/100\n",
      "2/2 [==============================] - 0s 114ms/step - loss: 0.0059\n",
      "Epoch 43/100\n",
      "2/2 [==============================] - 0s 116ms/step - loss: 0.0058\n",
      "Epoch 44/100\n",
      "2/2 [==============================] - 0s 114ms/step - loss: 0.0058\n",
      "Epoch 45/100\n",
      "2/2 [==============================] - 0s 122ms/step - loss: 0.0060\n",
      "Epoch 46/100\n",
      "2/2 [==============================] - 0s 110ms/step - loss: 0.0060\n",
      "Epoch 47/100\n",
      "2/2 [==============================] - 0s 120ms/step - loss: 0.0059\n",
      "Epoch 48/100\n",
      "2/2 [==============================] - 0s 134ms/step - loss: 0.0060\n",
      "Epoch 49/100\n",
      "2/2 [==============================] - 0s 110ms/step - loss: 0.0059\n",
      "Epoch 50/100\n",
      "2/2 [==============================] - 0s 111ms/step - loss: 0.0056\n",
      "Epoch 51/100\n",
      "2/2 [==============================] - 0s 114ms/step - loss: 0.0057\n",
      "Epoch 52/100\n",
      "2/2 [==============================] - 0s 118ms/step - loss: 0.0058\n",
      "Epoch 53/100\n",
      "2/2 [==============================] - 0s 112ms/step - loss: 0.0056\n",
      "Epoch 54/100\n",
      "2/2 [==============================] - 0s 111ms/step - loss: 0.0056\n",
      "Epoch 55/100\n",
      "2/2 [==============================] - 0s 98ms/step - loss: 0.0056\n",
      "Epoch 56/100\n",
      "2/2 [==============================] - 0s 165ms/step - loss: 0.0055\n",
      "Epoch 57/100\n",
      "2/2 [==============================] - 0s 161ms/step - loss: 0.0055\n",
      "Epoch 58/100\n",
      "2/2 [==============================] - 0s 185ms/step - loss: 0.0054\n",
      "Epoch 59/100\n",
      "2/2 [==============================] - 0s 112ms/step - loss: 0.0055\n",
      "Epoch 60/100\n",
      "2/2 [==============================] - 0s 140ms/step - loss: 0.0055\n",
      "Epoch 61/100\n",
      "2/2 [==============================] - 0s 187ms/step - loss: 0.0053\n",
      "Epoch 62/100\n",
      "2/2 [==============================] - 0s 111ms/step - loss: 0.0056\n",
      "Epoch 63/100\n",
      "2/2 [==============================] - 0s 163ms/step - loss: 0.0057\n",
      "Epoch 64/100\n",
      "2/2 [==============================] - 0s 166ms/step - loss: 0.0053\n",
      "Epoch 65/100\n",
      "2/2 [==============================] - 0s 155ms/step - loss: 0.0052\n",
      "Epoch 66/100\n",
      "2/2 [==============================] - 0s 132ms/step - loss: 0.0052\n",
      "Epoch 67/100\n",
      "2/2 [==============================] - 0s 117ms/step - loss: 0.0052\n",
      "Epoch 68/100\n",
      "2/2 [==============================] - 0s 134ms/step - loss: 0.0052\n",
      "Epoch 69/100\n",
      "2/2 [==============================] - 0s 144ms/step - loss: 0.0052\n",
      "Epoch 70/100\n",
      "2/2 [==============================] - 0s 148ms/step - loss: 0.0051\n",
      "Epoch 71/100\n",
      "2/2 [==============================] - 0s 141ms/step - loss: 0.0051\n",
      "Epoch 72/100\n",
      "2/2 [==============================] - 0s 144ms/step - loss: 0.0051\n",
      "Epoch 73/100\n",
      "2/2 [==============================] - 0s 129ms/step - loss: 0.0051\n",
      "Epoch 74/100\n",
      "2/2 [==============================] - 0s 110ms/step - loss: 0.0051\n",
      "Epoch 75/100\n",
      "2/2 [==============================] - 0s 108ms/step - loss: 0.0050\n",
      "Epoch 76/100\n",
      "2/2 [==============================] - 0s 107ms/step - loss: 0.0050\n",
      "Epoch 77/100\n",
      "2/2 [==============================] - 0s 112ms/step - loss: 0.0051\n",
      "Epoch 78/100\n",
      "2/2 [==============================] - 0s 111ms/step - loss: 0.0052\n",
      "Epoch 79/100\n",
      "2/2 [==============================] - 0s 111ms/step - loss: 0.0050\n",
      "Epoch 80/100\n",
      "2/2 [==============================] - 0s 108ms/step - loss: 0.0049\n",
      "Epoch 81/100\n",
      "2/2 [==============================] - 0s 106ms/step - loss: 0.0051\n",
      "Epoch 82/100\n",
      "2/2 [==============================] - 0s 108ms/step - loss: 0.0051\n",
      "Epoch 83/100\n",
      "2/2 [==============================] - 0s 115ms/step - loss: 0.0054\n",
      "Epoch 84/100\n",
      "2/2 [==============================] - 0s 110ms/step - loss: 0.0049\n",
      "Epoch 85/100\n",
      "2/2 [==============================] - 0s 115ms/step - loss: 0.0048\n",
      "Epoch 86/100\n",
      "2/2 [==============================] - 0s 110ms/step - loss: 0.0051\n",
      "Epoch 87/100\n",
      "2/2 [==============================] - 0s 125ms/step - loss: 0.0050\n",
      "Epoch 88/100\n",
      "2/2 [==============================] - 0s 111ms/step - loss: 0.0049\n",
      "Epoch 89/100\n",
      "2/2 [==============================] - 0s 108ms/step - loss: 0.0048\n",
      "Epoch 90/100\n",
      "2/2 [==============================] - 0s 108ms/step - loss: 0.0049\n",
      "Epoch 91/100\n",
      "2/2 [==============================] - 0s 113ms/step - loss: 0.0050\n",
      "Epoch 92/100\n",
      "2/2 [==============================] - 0s 106ms/step - loss: 0.0048\n",
      "Epoch 93/100\n",
      "2/2 [==============================] - 0s 118ms/step - loss: 0.0053\n",
      "Epoch 94/100\n",
      "2/2 [==============================] - 0s 109ms/step - loss: 0.0048\n",
      "Epoch 95/100\n",
      "2/2 [==============================] - 0s 106ms/step - loss: 0.0053\n",
      "Epoch 96/100\n",
      "2/2 [==============================] - 0s 108ms/step - loss: 0.0049\n",
      "Epoch 97/100\n",
      "2/2 [==============================] - 0s 103ms/step - loss: 0.0054\n",
      "Epoch 98/100\n",
      "2/2 [==============================] - 0s 101ms/step - loss: 0.0046\n",
      "Epoch 99/100\n",
      "2/2 [==============================] - 0s 106ms/step - loss: 0.0058\n",
      "Epoch 100/100\n",
      "2/2 [==============================] - 0s 106ms/step - loss: 0.0048\n"
     ]
    },
    {
     "data": {
      "text/plain": [
       "<keras.callbacks.History at 0x7f8f12655b80>"
      ]
     },
     "execution_count": 57,
     "metadata": {},
     "output_type": "execute_result"
    }
   ],
   "source": [
    "model.fit(X_train, y_train, validation_data=(X_test,y_test), epochs=100, batch_size=64, verbose=1)\n"
   ]
  },
  {
   "cell_type": "code",
   "execution_count": 58,
   "id": "22f738e1",
   "metadata": {},
   "outputs": [],
   "source": [
    "import tensorflow as tf"
   ]
  },
  {
   "cell_type": "code",
   "execution_count": 59,
   "id": "8f9377e5",
   "metadata": {},
   "outputs": [
    {
     "data": {
      "text/plain": [
       "'2.7.0'"
      ]
     },
     "execution_count": 59,
     "metadata": {},
     "output_type": "execute_result"
    }
   ],
   "source": [
    "tf.__version__"
   ]
  },
  {
   "cell_type": "code",
   "execution_count": 60,
   "id": "d2893f10",
   "metadata": {},
   "outputs": [
    {
     "ename": "ValueError",
     "evalue": "Unexpected result of `predict_function` (Empty batch_outputs). Please use `Model.compile(..., run_eagerly=True)`, or `tf.config.run_functions_eagerly(True)` for more information of where went wrong, or file a issue/bug to `tf.keras`.",
     "output_type": "error",
     "traceback": [
      "\u001b[0;31m---------------------------------------------------------------------------\u001b[0m",
      "\u001b[0;31mValueError\u001b[0m                                Traceback (most recent call last)",
      "Input \u001b[0;32mIn [60]\u001b[0m, in \u001b[0;36m<module>\u001b[0;34m\u001b[0m\n\u001b[1;32m      1\u001b[0m train_predict\u001b[38;5;241m=\u001b[39mmodel\u001b[38;5;241m.\u001b[39mpredict(X_train)\n\u001b[0;32m----> 2\u001b[0m test_predict\u001b[38;5;241m=\u001b[39m\u001b[43mmodel\u001b[49m\u001b[38;5;241;43m.\u001b[39;49m\u001b[43mpredict\u001b[49m\u001b[43m(\u001b[49m\u001b[43mX_test\u001b[49m\u001b[43m)\u001b[49m\n",
      "File \u001b[0;32m~/opt/anaconda3/lib/python3.8/site-packages/keras/utils/traceback_utils.py:67\u001b[0m, in \u001b[0;36mfilter_traceback.<locals>.error_handler\u001b[0;34m(*args, **kwargs)\u001b[0m\n\u001b[1;32m     65\u001b[0m \u001b[38;5;28;01mexcept\u001b[39;00m \u001b[38;5;167;01mException\u001b[39;00m \u001b[38;5;28;01mas\u001b[39;00m e:  \u001b[38;5;66;03m# pylint: disable=broad-except\u001b[39;00m\n\u001b[1;32m     66\u001b[0m   filtered_tb \u001b[38;5;241m=\u001b[39m _process_traceback_frames(e\u001b[38;5;241m.\u001b[39m__traceback__)\n\u001b[0;32m---> 67\u001b[0m   \u001b[38;5;28;01mraise\u001b[39;00m e\u001b[38;5;241m.\u001b[39mwith_traceback(filtered_tb) \u001b[38;5;28;01mfrom\u001b[39;00m \u001b[38;5;28mNone\u001b[39m\n\u001b[1;32m     68\u001b[0m \u001b[38;5;28;01mfinally\u001b[39;00m:\n\u001b[1;32m     69\u001b[0m   \u001b[38;5;28;01mdel\u001b[39;00m filtered_tb\n",
      "File \u001b[0;32m~/opt/anaconda3/lib/python3.8/site-packages/keras/engine/training.py:1804\u001b[0m, in \u001b[0;36mModel.predict\u001b[0;34m(self, x, batch_size, verbose, steps, callbacks, max_queue_size, workers, use_multiprocessing)\u001b[0m\n\u001b[1;32m   1802\u001b[0m         callbacks\u001b[38;5;241m.\u001b[39mon_predict_batch_end(end_step, {\u001b[38;5;124m'\u001b[39m\u001b[38;5;124moutputs\u001b[39m\u001b[38;5;124m'\u001b[39m: batch_outputs})\n\u001b[1;32m   1803\u001b[0m   \u001b[38;5;28;01mif\u001b[39;00m batch_outputs \u001b[38;5;129;01mis\u001b[39;00m \u001b[38;5;28;01mNone\u001b[39;00m:\n\u001b[0;32m-> 1804\u001b[0m     \u001b[38;5;28;01mraise\u001b[39;00m \u001b[38;5;167;01mValueError\u001b[39;00m(\u001b[38;5;124m'\u001b[39m\u001b[38;5;124mUnexpected result of `predict_function` \u001b[39m\u001b[38;5;124m'\u001b[39m\n\u001b[1;32m   1805\u001b[0m                      \u001b[38;5;124m'\u001b[39m\u001b[38;5;124m(Empty batch_outputs). Please use \u001b[39m\u001b[38;5;124m'\u001b[39m\n\u001b[1;32m   1806\u001b[0m                      \u001b[38;5;124m'\u001b[39m\u001b[38;5;124m`Model.compile(..., run_eagerly=True)`, or \u001b[39m\u001b[38;5;124m'\u001b[39m\n\u001b[1;32m   1807\u001b[0m                      \u001b[38;5;124m'\u001b[39m\u001b[38;5;124m`tf.config.run_functions_eagerly(True)` for more \u001b[39m\u001b[38;5;124m'\u001b[39m\n\u001b[1;32m   1808\u001b[0m                      \u001b[38;5;124m'\u001b[39m\u001b[38;5;124minformation of where went wrong, or file a \u001b[39m\u001b[38;5;124m'\u001b[39m\n\u001b[1;32m   1809\u001b[0m                      \u001b[38;5;124m'\u001b[39m\u001b[38;5;124missue/bug to `tf.keras`.\u001b[39m\u001b[38;5;124m'\u001b[39m)\n\u001b[1;32m   1810\u001b[0m   callbacks\u001b[38;5;241m.\u001b[39mon_predict_end()\n\u001b[1;32m   1811\u001b[0m all_outputs \u001b[38;5;241m=\u001b[39m tf\u001b[38;5;241m.\u001b[39m__internal__\u001b[38;5;241m.\u001b[39mnest\u001b[38;5;241m.\u001b[39mmap_structure_up_to(batch_outputs, concat, outputs)\n",
      "\u001b[0;31mValueError\u001b[0m: Unexpected result of `predict_function` (Empty batch_outputs). Please use `Model.compile(..., run_eagerly=True)`, or `tf.config.run_functions_eagerly(True)` for more information of where went wrong, or file a issue/bug to `tf.keras`."
     ]
    }
   ],
   "source": [
    "train_predict=model.predict(X_train)\n",
    "test_predict=model.predict(X_test)\n"
   ]
  },
  {
   "cell_type": "code",
   "execution_count": 61,
   "id": "131ba7b2",
   "metadata": {},
   "outputs": [
    {
     "ename": "NameError",
     "evalue": "name 'test_predict' is not defined",
     "output_type": "error",
     "traceback": [
      "\u001b[0;31m---------------------------------------------------------------------------\u001b[0m",
      "\u001b[0;31mNameError\u001b[0m                                 Traceback (most recent call last)",
      "Input \u001b[0;32mIn [61]\u001b[0m, in \u001b[0;36m<module>\u001b[0;34m\u001b[0m\n\u001b[1;32m      1\u001b[0m train_predict \u001b[38;5;241m=\u001b[39m scaler\u001b[38;5;241m.\u001b[39minverse_transform(train_predict)\n\u001b[0;32m----> 2\u001b[0m test_predict \u001b[38;5;241m=\u001b[39m scaler\u001b[38;5;241m.\u001b[39minverse_transform(\u001b[43mtest_predict\u001b[49m)\n",
      "\u001b[0;31mNameError\u001b[0m: name 'test_predict' is not defined"
     ]
    }
   ],
   "source": [
    "train_predict = scaler.inverse_transform(train_predict)\n",
    "test_predict = scaler.inverse_transform(test_predict)\n",
    "\n"
   ]
  },
  {
   "cell_type": "code",
   "execution_count": 62,
   "id": "42bb6cf9",
   "metadata": {},
   "outputs": [
    {
     "data": {
      "text/plain": [
       "97.74457288334415"
      ]
     },
     "execution_count": 62,
     "metadata": {},
     "output_type": "execute_result"
    }
   ],
   "source": [
    "import math\n",
    "from sklearn.metrics import mean_squared_error\n",
    "math.sqrt(mean_squared_error(y_train, train_predict))\n"
   ]
  },
  {
   "cell_type": "code",
   "execution_count": 63,
   "id": "08494ab7",
   "metadata": {},
   "outputs": [
    {
     "ename": "NameError",
     "evalue": "name 'test_predict' is not defined",
     "output_type": "error",
     "traceback": [
      "\u001b[0;31m---------------------------------------------------------------------------\u001b[0m",
      "\u001b[0;31mNameError\u001b[0m                                 Traceback (most recent call last)",
      "Input \u001b[0;32mIn [63]\u001b[0m, in \u001b[0;36m<module>\u001b[0;34m\u001b[0m\n\u001b[0;32m----> 1\u001b[0m math\u001b[38;5;241m.\u001b[39msqrt(mean_squared_error(y_test,\u001b[43mtest_predict\u001b[49m))\n",
      "\u001b[0;31mNameError\u001b[0m: name 'test_predict' is not defined"
     ]
    }
   ],
   "source": [
    "math.sqrt(mean_squared_error(y_test,test_predict))\n"
   ]
  },
  {
   "cell_type": "code",
   "execution_count": 64,
   "id": "91f1d006",
   "metadata": {},
   "outputs": [
    {
     "ename": "NameError",
     "evalue": "name 'test_predict' is not defined",
     "output_type": "error",
     "traceback": [
      "\u001b[0;31m---------------------------------------------------------------------------\u001b[0m",
      "\u001b[0;31mNameError\u001b[0m                                 Traceback (most recent call last)",
      "Input \u001b[0;32mIn [64]\u001b[0m, in \u001b[0;36m<module>\u001b[0;34m\u001b[0m\n\u001b[1;32m      8\u001b[0m testPredictPlot \u001b[38;5;241m=\u001b[39m np\u001b[38;5;241m.\u001b[39mempty_like(df1)\n\u001b[1;32m      9\u001b[0m testPredictPlot[:, :] \u001b[38;5;241m=\u001b[39m np\u001b[38;5;241m.\u001b[39mnan\n\u001b[0;32m---> 10\u001b[0m testPredictPlot[\u001b[38;5;28mlen\u001b[39m(train_predict)\u001b[38;5;241m+\u001b[39m(look_back\u001b[38;5;241m*\u001b[39m\u001b[38;5;241m2\u001b[39m)\u001b[38;5;241m+\u001b[39m\u001b[38;5;241m1\u001b[39m:\u001b[38;5;28mlen\u001b[39m(df1)\u001b[38;5;241m-\u001b[39m\u001b[38;5;241m1\u001b[39m, :] \u001b[38;5;241m=\u001b[39m \u001b[43mtest_predict\u001b[49m\n\u001b[1;32m     11\u001b[0m \u001b[38;5;66;03m# plot baseline and predictions\u001b[39;00m\n\u001b[1;32m     12\u001b[0m plt\u001b[38;5;241m.\u001b[39mplot(scaler\u001b[38;5;241m.\u001b[39minverse_transform(df1))\n",
      "\u001b[0;31mNameError\u001b[0m: name 'test_predict' is not defined"
     ]
    }
   ],
   "source": [
    "### Plotting \n",
    "# shift train predictions for plotting\n",
    "look_back=100\n",
    "trainPredictPlot = np.empty_like(df1)\n",
    "trainPredictPlot[:, :] = np.nan\n",
    "trainPredictPlot[look_back:len(train_predict)+look_back, :] = train_predict\n",
    "# shift test predictions for plotting\n",
    "testPredictPlot = np.empty_like(df1)\n",
    "testPredictPlot[:, :] = np.nan\n",
    "testPredictPlot[len(train_predict)+(look_back*2)+1:len(df1)-1, :] = test_predict\n",
    "# plot baseline and predictions\n",
    "plt.plot(scaler.inverse_transform(df1))\n",
    "plt.plot(trainPredictPlot)\n",
    "plt.plot(testPredictPlot)\n",
    "plt.show()"
   ]
  },
  {
   "cell_type": "code",
   "execution_count": 65,
   "id": "ddd83361",
   "metadata": {},
   "outputs": [
    {
     "data": {
      "text/plain": [
       "81"
      ]
     },
     "execution_count": 65,
     "metadata": {},
     "output_type": "execute_result"
    }
   ],
   "source": [
    "len(test_data)\n"
   ]
  },
  {
   "cell_type": "code",
   "execution_count": 66,
   "id": "e1dc264c",
   "metadata": {},
   "outputs": [
    {
     "data": {
      "text/plain": [
       "(1, 0)"
      ]
     },
     "execution_count": 66,
     "metadata": {},
     "output_type": "execute_result"
    }
   ],
   "source": [
    "x_input=test_data[333:].reshape(1,-1)\n",
    "x_input.shape"
   ]
  },
  {
   "cell_type": "code",
   "execution_count": null,
   "id": "44b2b35e",
   "metadata": {},
   "outputs": [],
   "source": [
    "temp_input=list(x_input)\n",
    "temp_input=temp_input[0].tolist()"
   ]
  },
  {
   "cell_type": "code",
   "execution_count": null,
   "id": "f0838a0d",
   "metadata": {},
   "outputs": [],
   "source": [
    "temp_input"
   ]
  },
  {
   "cell_type": "code",
   "execution_count": null,
   "id": "eb7409c1",
   "metadata": {},
   "outputs": [],
   "source": [
    "# demonstrate prediction for next 10 days\n",
    "from numpy import array\n",
    "\n",
    "lst_output=[]\n",
    "n_steps=100\n",
    "i=0\n",
    "while(i<30):\n",
    "    \n",
    "    if(len(temp_input)>100):\n",
    "        #print(temp_input)\n",
    "        x_input=np.array(temp_input[1:])\n",
    "        print(\"{} day input {}\".format(i,x_input))\n",
    "        x_input=x_input.reshape(1,-1)\n",
    "        x_input = x_input.reshape((1, n_steps, 1))\n",
    "        #print(x_input)\n",
    "        yhat = model.predict(x_input, verbose=0)\n",
    "        print(\"{} day output {}\".format(i,yhat))\n",
    "        temp_input.extend(yhat[0].tolist())\n",
    "        temp_input=temp_input[1:]\n",
    "        #print(temp_input)\n",
    "        lst_output.extend(yhat.tolist())\n",
    "        i=i+1\n",
    "    else:\n",
    "        x_input = x_input.reshape((1, n_steps,1))\n",
    "        yhat = model.predict(x_input, verbose=0)\n",
    "        print(yhat[0])\n",
    "        temp_input.extend(yhat[0].tolist())\n",
    "        print(len(temp_input))\n",
    "        lst_output.extend(yhat.tolist())\n",
    "        i=i+1\n",
    "    \n",
    "\n",
    "print(lst_output)"
   ]
  },
  {
   "cell_type": "code",
   "execution_count": null,
   "id": "208e0fa7",
   "metadata": {},
   "outputs": [],
   "source": [
    "day_new=np.arange(1,101)\n",
    "day_pred=np.arange(101,131)\n"
   ]
  },
  {
   "cell_type": "code",
   "execution_count": null,
   "id": "406345b9",
   "metadata": {},
   "outputs": [],
   "source": [
    "import matplotlib.pyplot as plt\n"
   ]
  },
  {
   "cell_type": "code",
   "execution_count": null,
   "id": "9b88c5ac",
   "metadata": {},
   "outputs": [],
   "source": [
    "len(df1)\n"
   ]
  },
  {
   "cell_type": "code",
   "execution_count": null,
   "id": "e31e2f25",
   "metadata": {},
   "outputs": [],
   "source": [
    "plt.plot(day_new,scaler.inverse_transform(df1[1135:]))\n",
    "plt.plot(day_pred,scaler.inverse_transform(lst_output))"
   ]
  },
  {
   "cell_type": "code",
   "execution_count": null,
   "id": "9830b211",
   "metadata": {},
   "outputs": [],
   "source": [
    "df3=df1.tolist()\n",
    "df3.extend(lst_output)\n",
    "plt.plot(df3[1200:])\n"
   ]
  },
  {
   "cell_type": "code",
   "execution_count": null,
   "id": "63f22e32",
   "metadata": {},
   "outputs": [],
   "source": [
    "df3=scaler.inverse_transform(df3).tolist()\n"
   ]
  },
  {
   "cell_type": "code",
   "execution_count": null,
   "id": "17d41d08",
   "metadata": {},
   "outputs": [],
   "source": [
    "plt.plot(df3)\n"
   ]
  },
  {
   "cell_type": "code",
   "execution_count": null,
   "id": "f82091a7",
   "metadata": {},
   "outputs": [],
   "source": []
  }
 ],
 "metadata": {
  "kernelspec": {
   "display_name": "Python 3",
   "language": "python",
   "name": "python3"
  },
  "language_info": {
   "codemirror_mode": {
    "name": "ipython",
    "version": 3
   },
   "file_extension": ".py",
   "mimetype": "text/x-python",
   "name": "python",
   "nbconvert_exporter": "python",
   "pygments_lexer": "ipython3",
   "version": "3.8.8"
  }
 },
 "nbformat": 4,
 "nbformat_minor": 5
}
