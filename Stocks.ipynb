{
 "cells": [
  {
   "cell_type": "code",
   "execution_count": 2,
   "id": "eacc56bd",
   "metadata": {},
   "outputs": [],
   "source": [
    "import pandas as pd"
   ]
  },
  {
   "cell_type": "code",
   "execution_count": 3,
   "id": "d8000017",
   "metadata": {},
   "outputs": [],
   "source": [
    "import keras"
   ]
  },
  {
   "cell_type": "code",
   "execution_count": 4,
   "id": "4df528bd",
   "metadata": {},
   "outputs": [],
   "source": [
    "import tensorflow"
   ]
  },
  {
   "cell_type": "code",
   "execution_count": 5,
   "id": "85f65644",
   "metadata": {},
   "outputs": [],
   "source": [
    "import matplotlib.pyplot as plt\n",
    "%matplotlib inline"
   ]
  },
  {
   "cell_type": "code",
   "execution_count": 28,
   "id": "4ee53285",
   "metadata": {},
   "outputs": [],
   "source": [
    "df = pd.read_csv(\"KARURVYSYA.NS3.csv\")"
   ]
  },
  {
   "cell_type": "code",
   "execution_count": 29,
   "id": "5b1cc8b8",
   "metadata": {},
   "outputs": [
    {
     "data": {
      "text/html": [
       "<div>\n",
       "<style scoped>\n",
       "    .dataframe tbody tr th:only-of-type {\n",
       "        vertical-align: middle;\n",
       "    }\n",
       "\n",
       "    .dataframe tbody tr th {\n",
       "        vertical-align: top;\n",
       "    }\n",
       "\n",
       "    .dataframe thead th {\n",
       "        text-align: right;\n",
       "    }\n",
       "</style>\n",
       "<table border=\"1\" class=\"dataframe\">\n",
       "  <thead>\n",
       "    <tr style=\"text-align: right;\">\n",
       "      <th></th>\n",
       "      <th>Date</th>\n",
       "      <th>Open</th>\n",
       "      <th>High</th>\n",
       "      <th>Low</th>\n",
       "      <th>Close</th>\n",
       "      <th>Adj Close</th>\n",
       "      <th>Volume</th>\n",
       "    </tr>\n",
       "  </thead>\n",
       "  <tbody>\n",
       "    <tr>\n",
       "      <th>0</th>\n",
       "      <td>2017-08-24</td>\n",
       "      <td>115.525833</td>\n",
       "      <td>121.073448</td>\n",
       "      <td>115.017654</td>\n",
       "      <td>118.490204</td>\n",
       "      <td>110.743645</td>\n",
       "      <td>2478386</td>\n",
       "    </tr>\n",
       "    <tr>\n",
       "      <th>1</th>\n",
       "      <td>2017-08-28</td>\n",
       "      <td>118.151421</td>\n",
       "      <td>121.115791</td>\n",
       "      <td>117.812637</td>\n",
       "      <td>120.141785</td>\n",
       "      <td>112.287254</td>\n",
       "      <td>2172805</td>\n",
       "    </tr>\n",
       "    <tr>\n",
       "      <th>2</th>\n",
       "      <td>2017-08-29</td>\n",
       "      <td>119.930046</td>\n",
       "      <td>122.428589</td>\n",
       "      <td>116.965668</td>\n",
       "      <td>117.389153</td>\n",
       "      <td>109.714584</td>\n",
       "      <td>1680499</td>\n",
       "    </tr>\n",
       "    <tr>\n",
       "      <th>3</th>\n",
       "      <td>2017-08-30</td>\n",
       "      <td>119.337166</td>\n",
       "      <td>119.972389</td>\n",
       "      <td>118.320816</td>\n",
       "      <td>119.675957</td>\n",
       "      <td>111.851883</td>\n",
       "      <td>1001623</td>\n",
       "    </tr>\n",
       "    <tr>\n",
       "      <th>4</th>\n",
       "      <td>2017-08-31</td>\n",
       "      <td>119.040733</td>\n",
       "      <td>121.369881</td>\n",
       "      <td>118.151421</td>\n",
       "      <td>120.522919</td>\n",
       "      <td>112.643478</td>\n",
       "      <td>2221375</td>\n",
       "    </tr>\n",
       "  </tbody>\n",
       "</table>\n",
       "</div>"
      ],
      "text/plain": [
       "         Date        Open        High         Low       Close   Adj Close  \\\n",
       "0  2017-08-24  115.525833  121.073448  115.017654  118.490204  110.743645   \n",
       "1  2017-08-28  118.151421  121.115791  117.812637  120.141785  112.287254   \n",
       "2  2017-08-29  119.930046  122.428589  116.965668  117.389153  109.714584   \n",
       "3  2017-08-30  119.337166  119.972389  118.320816  119.675957  111.851883   \n",
       "4  2017-08-31  119.040733  121.369881  118.151421  120.522919  112.643478   \n",
       "\n",
       "    Volume  \n",
       "0  2478386  \n",
       "1  2172805  \n",
       "2  1680499  \n",
       "3  1001623  \n",
       "4  2221375  "
      ]
     },
     "execution_count": 29,
     "metadata": {},
     "output_type": "execute_result"
    }
   ],
   "source": [
    "df.head()"
   ]
  },
  {
   "cell_type": "code",
   "execution_count": 30,
   "id": "c0cf7b6b",
   "metadata": {},
   "outputs": [
    {
     "data": {
      "text/html": [
       "<div>\n",
       "<style scoped>\n",
       "    .dataframe tbody tr th:only-of-type {\n",
       "        vertical-align: middle;\n",
       "    }\n",
       "\n",
       "    .dataframe tbody tr th {\n",
       "        vertical-align: top;\n",
       "    }\n",
       "\n",
       "    .dataframe thead th {\n",
       "        text-align: right;\n",
       "    }\n",
       "</style>\n",
       "<table border=\"1\" class=\"dataframe\">\n",
       "  <thead>\n",
       "    <tr style=\"text-align: right;\">\n",
       "      <th></th>\n",
       "      <th>Date</th>\n",
       "      <th>Open</th>\n",
       "      <th>High</th>\n",
       "      <th>Low</th>\n",
       "      <th>Close</th>\n",
       "      <th>Adj Close</th>\n",
       "      <th>Volume</th>\n",
       "    </tr>\n",
       "  </thead>\n",
       "  <tbody>\n",
       "    <tr>\n",
       "      <th>1230</th>\n",
       "      <td>2022-08-17</td>\n",
       "      <td>65.750000</td>\n",
       "      <td>66.000000</td>\n",
       "      <td>63.299999</td>\n",
       "      <td>64.150002</td>\n",
       "      <td>64.150002</td>\n",
       "      <td>2939232</td>\n",
       "    </tr>\n",
       "    <tr>\n",
       "      <th>1231</th>\n",
       "      <td>2022-08-18</td>\n",
       "      <td>64.150002</td>\n",
       "      <td>64.699997</td>\n",
       "      <td>63.000000</td>\n",
       "      <td>64.199997</td>\n",
       "      <td>64.199997</td>\n",
       "      <td>2484655</td>\n",
       "    </tr>\n",
       "    <tr>\n",
       "      <th>1232</th>\n",
       "      <td>2022-08-19</td>\n",
       "      <td>64.750000</td>\n",
       "      <td>65.400002</td>\n",
       "      <td>63.250000</td>\n",
       "      <td>64.349998</td>\n",
       "      <td>64.349998</td>\n",
       "      <td>4533852</td>\n",
       "    </tr>\n",
       "    <tr>\n",
       "      <th>1233</th>\n",
       "      <td>2022-08-22</td>\n",
       "      <td>64.000000</td>\n",
       "      <td>64.150002</td>\n",
       "      <td>63.049999</td>\n",
       "      <td>63.599998</td>\n",
       "      <td>63.599998</td>\n",
       "      <td>2909613</td>\n",
       "    </tr>\n",
       "    <tr>\n",
       "      <th>1234</th>\n",
       "      <td>2022-08-23</td>\n",
       "      <td>63.250000</td>\n",
       "      <td>65.000000</td>\n",
       "      <td>62.549999</td>\n",
       "      <td>64.849998</td>\n",
       "      <td>64.849998</td>\n",
       "      <td>5101640</td>\n",
       "    </tr>\n",
       "  </tbody>\n",
       "</table>\n",
       "</div>"
      ],
      "text/plain": [
       "            Date       Open       High        Low      Close  Adj Close  \\\n",
       "1230  2022-08-17  65.750000  66.000000  63.299999  64.150002  64.150002   \n",
       "1231  2022-08-18  64.150002  64.699997  63.000000  64.199997  64.199997   \n",
       "1232  2022-08-19  64.750000  65.400002  63.250000  64.349998  64.349998   \n",
       "1233  2022-08-22  64.000000  64.150002  63.049999  63.599998  63.599998   \n",
       "1234  2022-08-23  63.250000  65.000000  62.549999  64.849998  64.849998   \n",
       "\n",
       "       Volume  \n",
       "1230  2939232  \n",
       "1231  2484655  \n",
       "1232  4533852  \n",
       "1233  2909613  \n",
       "1234  5101640  "
      ]
     },
     "execution_count": 30,
     "metadata": {},
     "output_type": "execute_result"
    }
   ],
   "source": [
    "df.tail()"
   ]
  },
  {
   "cell_type": "code",
   "execution_count": 31,
   "id": "295d0c4a",
   "metadata": {},
   "outputs": [
    {
     "data": {
      "text/plain": [
       "<AxesSubplot:>"
      ]
     },
     "execution_count": 31,
     "metadata": {},
     "output_type": "execute_result"
    },
    {
     "data": {
      "image/png": "[encoded data removed]",
      "text/plain": [
       "<Figure size 432x288 with 1 Axes>"
      ]
     },
     "metadata": {
      "needs_background": "light"
     },
     "output_type": "display_data"
    }
   ],
   "source": [
    "df[\"Open\"].hist()"
   ]
  },
  {
   "cell_type": "code",
   "execution_count": 32,
   "id": "4691fc0d",
   "metadata": {},
   "outputs": [
    {
     "data": {
      "text/plain": [
       "<AxesSubplot:>"
      ]
     },
     "execution_count": 32,
     "metadata": {},
     "output_type": "execute_result"
    },
    {
     "data": {
      "image/png": "[encoded data removed]",
      "text/plain": [
       "<Figure size 432x288 with 1 Axes>"
      ]
     },
     "metadata": {
      "needs_background": "light"
     },
     "output_type": "display_data"
    }
   ],
   "source": [
    "df[\"High\"].hist()"
   ]
  },
  {
   "cell_type": "code",
   "execution_count": 33,
   "id": "7bd27e07",
   "metadata": {},
   "outputs": [
    {
     "data": {
      "text/plain": [
       "<AxesSubplot:>"
      ]
     },
     "execution_count": 33,
     "metadata": {},
     "output_type": "execute_result"
    },
    {
     "data": {
      "image/png": "[encoded data removed]",
      "text/plain": [
       "<Figure size 432x288 with 1 Axes>"
      ]
     },
     "metadata": {
      "needs_background": "light"
     },
     "output_type": "display_data"
    }
   ],
   "source": [
    "df[\"Close\"].hist()"
   ]
  },
  {
   "cell_type": "code",
   "execution_count": 34,
   "id": "06340cd3",
   "metadata": {},
   "outputs": [],
   "source": [
    "df1 = df.reset_index()['Close']"
   ]
  },
  {
   "cell_type": "code",
   "execution_count": 35,
   "id": "22757721",
   "metadata": {},
   "outputs": [
    {
     "data": {
      "text/plain": [
       "(1235,)"
      ]
     },
     "execution_count": 35,
     "metadata": {},
     "output_type": "execute_result"
    }
   ],
   "source": [
    "df1.shape"
   ]
  },
  {
   "cell_type": "code",
   "execution_count": 36,
   "id": "4591bde0",
   "metadata": {},
   "outputs": [
    {
     "data": {
      "text/plain": [
       "[<matplotlib.lines.Line2D at 0x7f7dcf1243d0>]"
      ]
     },
     "execution_count": 36,
     "metadata": {},
     "output_type": "execute_result"
    },
    {
     "data": {
      "image/png": "[encoded data removed]",
      "text/plain": [
       "<Figure size 432x288 with 1 Axes>"
      ]
     },
     "metadata": {
      "needs_background": "light"
     },
     "output_type": "display_data"
    }
   ],
   "source": [
    "plt.plot(df1)"
   ]
  },
  {
   "cell_type": "code",
   "execution_count": 37,
   "id": "b4f1015e",
   "metadata": {},
   "outputs": [],
   "source": [
    "import numpy as np"
   ]
  },
  {
   "cell_type": "code",
   "execution_count": 38,
   "id": "cda09a7f",
   "metadata": {},
   "outputs": [
    {
     "data": {
      "text/plain": [
       "0       118.490204\n",
       "1       120.141785\n",
       "2       117.389153\n",
       "3       119.675957\n",
       "4       120.522919\n",
       "           ...    \n",
       "1230     64.150002\n",
       "1231     64.199997\n",
       "1232     64.349998\n",
       "1233     63.599998\n",
       "1234     64.849998\n",
       "Name: Close, Length: 1235, dtype: float64"
      ]
     },
     "execution_count": 38,
     "metadata": {},
     "output_type": "execute_result"
    }
   ],
   "source": [
    "df1"
   ]
  },
  {
   "cell_type": "code",
   "execution_count": 39,
   "id": "65a22253",
   "metadata": {},
   "outputs": [],
   "source": [
    "from sklearn.preprocessing import MinMaxScaler\n",
    "scaler = MinMaxScaler(feature_range=(0,1))\n",
    "df1 = scaler.fit_transform(np.array(df1).reshape(-1,1))"
   ]
  },
  {
   "cell_type": "code",
   "execution_count": 40,
   "id": "410aaa27",
   "metadata": {},
   "outputs": [
    {
     "data": {
      "text/plain": [
       "(1235, 1)"
      ]
     },
     "execution_count": 40,
     "metadata": {},
     "output_type": "execute_result"
    }
   ],
   "source": [
    "df1.shape"
   ]
  },
  {
   "cell_type": "code",
   "execution_count": 41,
   "id": "8acd50b8",
   "metadata": {},
   "outputs": [
    {
     "name": "stdout",
     "output_type": "stream",
     "text": [
      "[[0.85878964]\n",
      " [0.87316878]\n",
      " [0.84920358]\n",
      " ...\n",
      " [0.38742963]\n",
      " [0.38089991]\n",
      " [0.39178277]]\n"
     ]
    }
   ],
   "source": [
    "print(df1)"
   ]
  },
  {
   "cell_type": "code",
   "execution_count": 43,
   "id": "3e53e063",
   "metadata": {},
   "outputs": [],
   "source": [
    "## TRAIN TEST ABD SPLIT"
   ]
  },
  {
   "cell_type": "code",
   "execution_count": 44,
   "id": "8e166a0e",
   "metadata": {},
   "outputs": [],
   "source": [
    "training_size = int(len(df1)*0.65)\n",
    "test_size= len(df1)-training_size\n",
    "\n",
    "train_data,test_data = df1[0:training_size,:],df1[training_size:len(df1),:1]\n"
   ]
  },
  {
   "cell_type": "code",
   "execution_count": 45,
   "id": "63616a96",
   "metadata": {},
   "outputs": [
    {
     "data": {
      "text/plain": [
       "(802, 433)"
      ]
     },
     "execution_count": 45,
     "metadata": {},
     "output_type": "execute_result"
    }
   ],
   "source": [
    "training_size, test_size"
   ]
  },
  {
   "cell_type": "code",
   "execution_count": 46,
   "id": "d525772a",
   "metadata": {},
   "outputs": [],
   "source": [
    "#Now splitting the dataset for time series and making it into a matrix"
   ]
  },
  {
   "cell_type": "code",
   "execution_count": 48,
   "id": "ee4e56e3",
   "metadata": {},
   "outputs": [],
   "source": [
    "def create_dataset (dataset,time_step=1):\n",
    "    dataX, dataY = [], []\n",
    "    for i in range(len(dataset)-time_step-1):\n",
    "        a = dataset[i:(i+time_step),0]\n",
    "        dataX.append(a)\n",
    "        dataY.append(dataset[i+time_step, 0])\n",
    "    return np.array(dataX), np.array(dataY)\n",
    "        "
   ]
  },
  {
   "cell_type": "code",
   "execution_count": 49,
   "id": "16f95f92",
   "metadata": {},
   "outputs": [],
   "source": [
    "time_step = 100\n",
    "X_train, y_train = create_dataset(train_data, time_step)\n",
    "X_test, y_test = create_dataset(test_data, time_step)"
   ]
  },
  {
   "cell_type": "code",
   "execution_count": 55,
   "id": "a0c1cab7",
   "metadata": {},
   "outputs": [
    {
     "name": "stdout",
     "output_type": "stream",
     "text": [
      "(701, 100)\n",
      "(701,)\n"
     ]
    },
    {
     "data": {
      "text/plain": [
       "(None, None)"
      ]
     },
     "execution_count": 55,
     "metadata": {},
     "output_type": "execute_result"
    }
   ],
   "source": [
    "print(X_train.shape), print(y_train.shape)"
   ]
  },
  {
   "cell_type": "code",
   "execution_count": 56,
   "id": "cfba02d5",
   "metadata": {},
   "outputs": [
    {
     "name": "stdout",
     "output_type": "stream",
     "text": [
      "(332, 100)\n",
      "(332,)\n"
     ]
    },
    {
     "data": {
      "text/plain": [
       "(None, None)"
      ]
     },
     "execution_count": 56,
     "metadata": {},
     "output_type": "execute_result"
    }
   ],
   "source": [
    "print(X_test.shape), print(y_test.shape)"
   ]
  },
  {
   "cell_type": "code",
   "execution_count": 57,
   "id": "89e67ba1",
   "metadata": {},
   "outputs": [],
   "source": [
    "#Now modelling it for LSTM\n",
    "#For LSTM the shape should be of 3-d, so we are adding 1 at the end of the train and test.\n",
    "#The reshaped input should be in the form of [samples,timesteps,features]\n",
    "\n",
    "X_train = X_train.reshape(X_train.shape[0], X_train.shape[1], 1)\n",
    "X_test = X_test.reshape(X_test.shape[0], X_test.shape[1], 1)\n",
    "\n"
   ]
  },
  {
   "cell_type": "code",
   "execution_count": 58,
   "id": "dc0b956e",
   "metadata": {},
   "outputs": [],
   "source": [
    "#Creating a Stacked LSTM model\n"
   ]
  },
  {
   "cell_type": "code",
   "execution_count": 59,
   "id": "a46be836",
   "metadata": {},
   "outputs": [],
   "source": [
    "from tensorflow.keras.models import Sequential\n",
    "from tensorflow.keras.layers import Dense\n",
    "from tensorflow.keras.layers import LSTM\n",
    "\n"
   ]
  },
  {
   "cell_type": "code",
   "execution_count": 60,
   "id": "5ad9a136",
   "metadata": {},
   "outputs": [],
   "source": [
    "model = Sequential()\n",
    "model.add(LSTM(50,return_sequences=True, input_shape=(100,1)))\n",
    "model.add(LSTM(50,return_sequences=True))\n",
    "model.add(LSTM(50))\n",
    "model.add(Dense(1))\n",
    "model.compile(loss='mean_squared_error', optimizer = \"adam\")"
   ]
  },
  {
   "cell_type": "code",
   "execution_count": 61,
   "id": "99d8a2b6",
   "metadata": {},
   "outputs": [
    {
     "name": "stdout",
     "output_type": "stream",
     "text": [
      "Model: \"sequential\"\n",
      "_________________________________________________________________\n",
      " Layer (type)                Output Shape              Param #   \n",
      "=================================================================\n",
      " lstm (LSTM)                 (None, 100, 50)           10400     \n",
      "                                                                 \n",
      " lstm_1 (LSTM)               (None, 100, 50)           20200     \n",
      "                                                                 \n",
      " lstm_2 (LSTM)               (None, 50)                20200     \n",
      "                                                                 \n",
      " dense (Dense)               (None, 1)                 51        \n",
      "                                                                 \n",
      "=================================================================\n",
      "Total params: 50,851\n",
      "Trainable params: 50,851\n",
      "Non-trainable params: 0\n",
      "_________________________________________________________________\n"
     ]
    }
   ],
   "source": [
    "model.summary()"
   ]
  },
  {
   "cell_type": "code",
   "execution_count": 62,
   "id": "88a42c37",
   "metadata": {},
   "outputs": [
    {
     "name": "stdout",
     "output_type": "stream",
     "text": [
      "Epoch 1/100\n",
      "11/11 [==============================] - 6s 222ms/step - loss: 0.0697 - val_loss: 0.0075\n",
      "Epoch 2/100\n",
      "11/11 [==============================] - 1s 134ms/step - loss: 0.0127 - val_loss: 0.0034\n",
      "Epoch 3/100\n",
      "11/11 [==============================] - 1s 137ms/step - loss: 0.0063 - val_loss: 0.0012\n",
      "Epoch 4/100\n",
      "11/11 [==============================] - 1s 136ms/step - loss: 0.0035 - val_loss: 0.0017\n",
      "Epoch 5/100\n",
      "11/11 [==============================] - 1s 136ms/step - loss: 0.0021 - val_loss: 0.0014\n",
      "Epoch 6/100\n",
      "11/11 [==============================] - 2s 146ms/step - loss: 0.0019 - val_loss: 0.0019\n",
      "Epoch 7/100\n",
      "11/11 [==============================] - 1s 135ms/step - loss: 0.0018 - val_loss: 0.0013\n",
      "Epoch 8/100\n",
      "11/11 [==============================] - 1s 135ms/step - loss: 0.0017 - val_loss: 0.0011\n",
      "Epoch 9/100\n",
      "11/11 [==============================] - 1s 136ms/step - loss: 0.0017 - val_loss: 0.0012\n",
      "Epoch 10/100\n",
      "11/11 [==============================] - 1s 136ms/step - loss: 0.0016 - val_loss: 0.0013\n",
      "Epoch 11/100\n",
      "11/11 [==============================] - 1s 137ms/step - loss: 0.0016 - val_loss: 0.0011\n",
      "Epoch 12/100\n",
      "11/11 [==============================] - 1s 135ms/step - loss: 0.0016 - val_loss: 0.0011\n",
      "Epoch 13/100\n",
      "11/11 [==============================] - 2s 145ms/step - loss: 0.0015 - val_loss: 0.0011\n",
      "Epoch 14/100\n",
      "11/11 [==============================] - 2s 154ms/step - loss: 0.0015 - val_loss: 0.0011\n",
      "Epoch 15/100\n",
      "11/11 [==============================] - 2s 151ms/step - loss: 0.0014 - val_loss: 0.0012\n",
      "Epoch 16/100\n",
      "11/11 [==============================] - 2s 140ms/step - loss: 0.0014 - val_loss: 0.0011\n",
      "Epoch 17/100\n",
      "11/11 [==============================] - 2s 145ms/step - loss: 0.0014 - val_loss: 0.0010\n",
      "Epoch 18/100\n",
      "11/11 [==============================] - 1s 136ms/step - loss: 0.0013 - val_loss: 9.3093e-04\n",
      "Epoch 19/100\n",
      "11/11 [==============================] - 2s 149ms/step - loss: 0.0013 - val_loss: 8.8901e-04\n",
      "Epoch 20/100\n",
      "11/11 [==============================] - 2s 151ms/step - loss: 0.0013 - val_loss: 9.3621e-04\n",
      "Epoch 21/100\n",
      "11/11 [==============================] - 2s 138ms/step - loss: 0.0013 - val_loss: 0.0011\n",
      "Epoch 22/100\n",
      "11/11 [==============================] - 2s 153ms/step - loss: 0.0014 - val_loss: 8.2038e-04\n",
      "Epoch 23/100\n",
      "11/11 [==============================] - 1s 136ms/step - loss: 0.0012 - val_loss: 7.9881e-04\n",
      "Epoch 24/100\n",
      "11/11 [==============================] - 1s 136ms/step - loss: 0.0012 - val_loss: 8.9452e-04\n",
      "Epoch 25/100\n",
      "11/11 [==============================] - 1s 137ms/step - loss: 0.0012 - val_loss: 7.9935e-04\n",
      "Epoch 26/100\n",
      "11/11 [==============================] - 1s 138ms/step - loss: 0.0011 - val_loss: 7.9300e-04\n",
      "Epoch 27/100\n",
      "11/11 [==============================] - 1s 137ms/step - loss: 0.0011 - val_loss: 7.3506e-04\n",
      "Epoch 28/100\n",
      "11/11 [==============================] - 2s 151ms/step - loss: 0.0010 - val_loss: 7.1680e-04\n",
      "Epoch 29/100\n",
      "11/11 [==============================] - 2s 142ms/step - loss: 9.7465e-04 - val_loss: 6.9893e-04\n",
      "Epoch 30/100\n",
      "11/11 [==============================] - 1s 135ms/step - loss: 8.9500e-04 - val_loss: 6.9086e-04\n",
      "Epoch 31/100\n",
      "11/11 [==============================] - 1s 136ms/step - loss: 8.8874e-04 - val_loss: 7.0190e-04\n",
      "Epoch 32/100\n",
      "11/11 [==============================] - 1s 138ms/step - loss: 8.7385e-04 - val_loss: 6.4779e-04\n",
      "Epoch 33/100\n",
      "11/11 [==============================] - 2s 139ms/step - loss: 8.3495e-04 - val_loss: 6.4494e-04\n",
      "Epoch 34/100\n",
      "11/11 [==============================] - 2s 149ms/step - loss: 8.1622e-04 - val_loss: 6.3608e-04\n",
      "Epoch 35/100\n",
      "11/11 [==============================] - 2s 141ms/step - loss: 8.6039e-04 - val_loss: 6.1073e-04\n",
      "Epoch 36/100\n",
      "11/11 [==============================] - 1s 137ms/step - loss: 7.8895e-04 - val_loss: 6.1153e-04\n",
      "Epoch 37/100\n",
      "11/11 [==============================] - 2s 142ms/step - loss: 7.9236e-04 - val_loss: 6.1767e-04\n",
      "Epoch 38/100\n",
      "11/11 [==============================] - 2s 139ms/step - loss: 7.8169e-04 - val_loss: 5.9735e-04\n",
      "Epoch 39/100\n",
      "11/11 [==============================] - 2s 167ms/step - loss: 7.4945e-04 - val_loss: 6.3947e-04\n",
      "Epoch 40/100\n",
      "11/11 [==============================] - 2s 149ms/step - loss: 7.8698e-04 - val_loss: 5.6681e-04\n",
      "Epoch 41/100\n",
      "11/11 [==============================] - 2s 138ms/step - loss: 7.3490e-04 - val_loss: 5.6899e-04\n",
      "Epoch 42/100\n",
      "11/11 [==============================] - 2s 144ms/step - loss: 7.0723e-04 - val_loss: 5.6266e-04\n",
      "Epoch 43/100\n",
      "11/11 [==============================] - 2s 163ms/step - loss: 7.1819e-04 - val_loss: 6.2167e-04\n",
      "Epoch 44/100\n",
      "11/11 [==============================] - 1s 137ms/step - loss: 6.9078e-04 - val_loss: 5.7849e-04\n",
      "Epoch 45/100\n",
      "11/11 [==============================] - 1s 136ms/step - loss: 6.7083e-04 - val_loss: 5.8522e-04\n",
      "Epoch 46/100\n",
      "11/11 [==============================] - 1s 138ms/step - loss: 6.7493e-04 - val_loss: 5.6090e-04\n",
      "Epoch 47/100\n",
      "11/11 [==============================] - 1s 138ms/step - loss: 6.6570e-04 - val_loss: 5.3534e-04\n",
      "Epoch 48/100\n",
      "11/11 [==============================] - 1s 133ms/step - loss: 6.4648e-04 - val_loss: 5.2112e-04\n",
      "Epoch 49/100\n",
      "11/11 [==============================] - 1s 136ms/step - loss: 7.2462e-04 - val_loss: 5.1192e-04\n",
      "Epoch 50/100\n",
      "11/11 [==============================] - 1s 135ms/step - loss: 6.4562e-04 - val_loss: 5.2740e-04\n",
      "Epoch 51/100\n",
      "11/11 [==============================] - 2s 149ms/step - loss: 6.2626e-04 - val_loss: 5.0691e-04\n",
      "Epoch 52/100\n",
      "11/11 [==============================] - 2s 169ms/step - loss: 6.5746e-04 - val_loss: 5.0863e-04\n",
      "Epoch 53/100\n",
      "11/11 [==============================] - 2s 182ms/step - loss: 7.4450e-04 - val_loss: 5.1331e-04\n",
      "Epoch 54/100\n",
      "11/11 [==============================] - 2s 150ms/step - loss: 6.6004e-04 - val_loss: 4.8881e-04\n",
      "Epoch 55/100\n",
      "11/11 [==============================] - 2s 141ms/step - loss: 6.7269e-04 - val_loss: 4.9058e-04\n",
      "Epoch 56/100\n",
      "11/11 [==============================] - 2s 151ms/step - loss: 7.4496e-04 - val_loss: 5.0692e-04\n",
      "Epoch 57/100\n",
      "11/11 [==============================] - 2s 144ms/step - loss: 7.2032e-04 - val_loss: 5.4093e-04\n",
      "Epoch 58/100\n",
      "11/11 [==============================] - 2s 140ms/step - loss: 6.5782e-04 - val_loss: 6.1838e-04\n",
      "Epoch 59/100\n",
      "11/11 [==============================] - 2s 142ms/step - loss: 7.4481e-04 - val_loss: 5.6284e-04\n",
      "Epoch 60/100\n",
      "11/11 [==============================] - 1s 137ms/step - loss: 5.8334e-04 - val_loss: 5.8709e-04\n",
      "Epoch 61/100\n",
      "11/11 [==============================] - 1s 137ms/step - loss: 5.8337e-04 - val_loss: 4.8547e-04\n",
      "Epoch 62/100\n",
      "11/11 [==============================] - 1s 135ms/step - loss: 5.6867e-04 - val_loss: 5.3913e-04\n",
      "Epoch 63/100\n",
      "11/11 [==============================] - 1s 137ms/step - loss: 6.0427e-04 - val_loss: 5.9079e-04\n",
      "Epoch 64/100\n",
      "11/11 [==============================] - 1s 135ms/step - loss: 6.9572e-04 - val_loss: 5.3138e-04\n",
      "Epoch 65/100\n",
      "11/11 [==============================] - 1s 136ms/step - loss: 6.8281e-04 - val_loss: 5.0247e-04\n",
      "Epoch 66/100\n",
      "11/11 [==============================] - 1s 136ms/step - loss: 5.6917e-04 - val_loss: 4.4877e-04\n",
      "Epoch 67/100\n",
      "11/11 [==============================] - 1s 136ms/step - loss: 5.4092e-04 - val_loss: 5.7731e-04\n",
      "Epoch 68/100\n",
      "11/11 [==============================] - 1s 137ms/step - loss: 5.7870e-04 - val_loss: 5.0529e-04\n",
      "Epoch 69/100\n",
      "11/11 [==============================] - 1s 136ms/step - loss: 5.5255e-04 - val_loss: 4.6103e-04\n",
      "Epoch 70/100\n",
      "11/11 [==============================] - 1s 137ms/step - loss: 5.1116e-04 - val_loss: 4.8264e-04\n",
      "Epoch 71/100\n",
      "11/11 [==============================] - 1s 136ms/step - loss: 5.1229e-04 - val_loss: 4.9131e-04\n",
      "Epoch 72/100\n",
      "11/11 [==============================] - 2s 147ms/step - loss: 5.6647e-04 - val_loss: 4.7520e-04\n",
      "Epoch 73/100\n",
      "11/11 [==============================] - 1s 137ms/step - loss: 5.4450e-04 - val_loss: 4.4702e-04\n",
      "Epoch 74/100\n",
      "11/11 [==============================] - 1s 136ms/step - loss: 5.4298e-04 - val_loss: 4.3057e-04\n",
      "Epoch 75/100\n",
      "11/11 [==============================] - 1s 136ms/step - loss: 5.3745e-04 - val_loss: 4.4761e-04\n",
      "Epoch 76/100\n",
      "11/11 [==============================] - 1s 137ms/step - loss: 5.0424e-04 - val_loss: 4.4443e-04\n",
      "Epoch 77/100\n"
     ]
    },
    {
     "name": "stdout",
     "output_type": "stream",
     "text": [
      "11/11 [==============================] - 1s 132ms/step - loss: 4.8177e-04 - val_loss: 5.3817e-04\n",
      "Epoch 78/100\n",
      "11/11 [==============================] - 1s 133ms/step - loss: 5.2435e-04 - val_loss: 5.6821e-04\n",
      "Epoch 79/100\n",
      "11/11 [==============================] - 1s 133ms/step - loss: 5.3803e-04 - val_loss: 8.1919e-04\n",
      "Epoch 80/100\n",
      "11/11 [==============================] - 1s 133ms/step - loss: 6.0585e-04 - val_loss: 4.8754e-04\n",
      "Epoch 81/100\n",
      "11/11 [==============================] - 1s 133ms/step - loss: 5.8790e-04 - val_loss: 4.0983e-04\n",
      "Epoch 82/100\n",
      "11/11 [==============================] - 1s 132ms/step - loss: 6.9827e-04 - val_loss: 4.0837e-04\n",
      "Epoch 83/100\n",
      "11/11 [==============================] - 1s 134ms/step - loss: 6.2368e-04 - val_loss: 6.1745e-04\n",
      "Epoch 84/100\n",
      "11/11 [==============================] - 1s 132ms/step - loss: 5.2685e-04 - val_loss: 4.4068e-04\n",
      "Epoch 85/100\n",
      "11/11 [==============================] - 1s 137ms/step - loss: 4.6759e-04 - val_loss: 4.9397e-04\n",
      "Epoch 86/100\n",
      "11/11 [==============================] - 2s 132ms/step - loss: 4.6082e-04 - val_loss: 6.0110e-04\n",
      "Epoch 87/100\n",
      "11/11 [==============================] - 1s 133ms/step - loss: 4.6511e-04 - val_loss: 4.4740e-04\n",
      "Epoch 88/100\n",
      "11/11 [==============================] - 1s 137ms/step - loss: 4.4535e-04 - val_loss: 4.5023e-04\n",
      "Epoch 89/100\n",
      "11/11 [==============================] - 1s 132ms/step - loss: 4.6213e-04 - val_loss: 4.4835e-04\n",
      "Epoch 90/100\n",
      "11/11 [==============================] - 1s 135ms/step - loss: 5.0027e-04 - val_loss: 4.2916e-04\n",
      "Epoch 91/100\n",
      "11/11 [==============================] - 1s 134ms/step - loss: 5.3569e-04 - val_loss: 4.3835e-04\n",
      "Epoch 92/100\n",
      "11/11 [==============================] - 1s 137ms/step - loss: 4.7551e-04 - val_loss: 4.3505e-04\n",
      "Epoch 93/100\n",
      "11/11 [==============================] - 1s 134ms/step - loss: 4.3526e-04 - val_loss: 4.2372e-04\n",
      "Epoch 94/100\n",
      "11/11 [==============================] - 1s 133ms/step - loss: 4.5812e-04 - val_loss: 6.2756e-04\n",
      "Epoch 95/100\n",
      "11/11 [==============================] - 1s 132ms/step - loss: 4.7272e-04 - val_loss: 5.0232e-04\n",
      "Epoch 96/100\n",
      "11/11 [==============================] - 1s 135ms/step - loss: 4.8739e-04 - val_loss: 6.0955e-04\n",
      "Epoch 97/100\n",
      "11/11 [==============================] - 1s 136ms/step - loss: 5.0998e-04 - val_loss: 4.7854e-04\n",
      "Epoch 98/100\n",
      "11/11 [==============================] - 1s 134ms/step - loss: 4.8674e-04 - val_loss: 3.8583e-04\n",
      "Epoch 99/100\n",
      "11/11 [==============================] - 1s 134ms/step - loss: 4.4222e-04 - val_loss: 4.1144e-04\n",
      "Epoch 100/100\n",
      "11/11 [==============================] - 1s 134ms/step - loss: 4.6914e-04 - val_loss: 3.7687e-04\n"
     ]
    },
    {
     "data": {
      "text/plain": [
       "<keras.callbacks.History at 0x7f7dd01b7a00>"
      ]
     },
     "execution_count": 62,
     "metadata": {},
     "output_type": "execute_result"
    }
   ],
   "source": [
    "model.fit(X_train, y_train, validation_data=(X_test,y_test), epochs=100, batch_size=64, verbose=1)\n"
   ]
  },
  {
   "cell_type": "code",
   "execution_count": 63,
   "id": "22f738e1",
   "metadata": {},
   "outputs": [],
   "source": [
    "import tensorflow as tf"
   ]
  },
  {
   "cell_type": "code",
   "execution_count": 64,
   "id": "8f9377e5",
   "metadata": {},
   "outputs": [
    {
     "data": {
      "text/plain": [
       "'2.7.0'"
      ]
     },
     "execution_count": 64,
     "metadata": {},
     "output_type": "execute_result"
    }
   ],
   "source": [
    "tf.__version__"
   ]
  },
  {
   "cell_type": "code",
   "execution_count": 65,
   "id": "d2893f10",
   "metadata": {},
   "outputs": [],
   "source": [
    "train_predict=model.predict(X_train)\n",
    "test_predict=model.predict(X_test)\n"
   ]
  },
  {
   "cell_type": "code",
   "execution_count": 67,
   "id": "131ba7b2",
   "metadata": {},
   "outputs": [],
   "source": [
    "train_predict = scaler.inverse_transform(train_predict)\n",
    "test_predict = scaler.inverse_transform(test_predict)\n",
    "\n"
   ]
  },
  {
   "cell_type": "code",
   "execution_count": 68,
   "id": "42bb6cf9",
   "metadata": {},
   "outputs": [
    {
     "data": {
      "text/plain": [
       "70.07192594157047"
      ]
     },
     "execution_count": 68,
     "metadata": {},
     "output_type": "execute_result"
    }
   ],
   "source": [
    "import math\n",
    "from sklearn.metrics import mean_squared_error\n",
    "math.sqrt(mean_squared_error(y_train, train_predict))\n"
   ]
  },
  {
   "cell_type": "code",
   "execution_count": 70,
   "id": "08494ab7",
   "metadata": {},
   "outputs": [
    {
     "data": {
      "text/plain": [
       "49.005513584985"
      ]
     },
     "execution_count": 70,
     "metadata": {},
     "output_type": "execute_result"
    }
   ],
   "source": [
    "math.sqrt(mean_squared_error(y_test,test_predict))\n"
   ]
  },
  {
   "cell_type": "code",
   "execution_count": 73,
   "id": "91f1d006",
   "metadata": {},
   "outputs": [
    {
     "data": {
      "image/png": "[encoded data removed]",
      "text/plain": [
       "<Figure size 432x288 with 1 Axes>"
      ]
     },
     "metadata": {
      "needs_background": "light"
     },
     "output_type": "display_data"
    }
   ],
   "source": [
    "### Plotting \n",
    "# shift train predictions for plotting\n",
    "look_back=100\n",
    "trainPredictPlot = np.empty_like(df1)\n",
    "trainPredictPlot[:, :] = np.nan\n",
    "trainPredictPlot[look_back:len(train_predict)+look_back, :] = train_predict\n",
    "# shift test predictions for plotting\n",
    "testPredictPlot = np.empty_like(df1)\n",
    "testPredictPlot[:, :] = np.nan\n",
    "testPredictPlot[len(train_predict)+(look_back*2)+1:len(df1)-1, :] = test_predict\n",
    "# plot baseline and predictions\n",
    "plt.plot(scaler.inverse_transform(df1))\n",
    "plt.plot(trainPredictPlot)\n",
    "plt.plot(testPredictPlot)\n",
    "plt.show()"
   ]
  },
  {
   "cell_type": "code",
   "execution_count": 83,
   "id": "ddd83361",
   "metadata": {},
   "outputs": [
    {
     "data": {
      "text/plain": [
       "433"
      ]
     },
     "execution_count": 83,
     "metadata": {},
     "output_type": "execute_result"
    }
   ],
   "source": [
    "len(test_data)\n"
   ]
  },
  {
   "cell_type": "code",
   "execution_count": 84,
   "id": "e1dc264c",
   "metadata": {},
   "outputs": [
    {
     "data": {
      "text/plain": [
       "(1, 100)"
      ]
     },
     "execution_count": 84,
     "metadata": {},
     "output_type": "execute_result"
    }
   ],
   "source": [
    "x_input=test_data[333:].reshape(1,-1)\n",
    "x_input.shape"
   ]
  },
  {
   "cell_type": "code",
   "execution_count": 85,
   "id": "44b2b35e",
   "metadata": {},
   "outputs": [],
   "source": [
    "temp_input=list(x_input)\n",
    "temp_input=temp_input[0].tolist()"
   ]
  },
  {
   "cell_type": "code",
   "execution_count": 86,
   "id": "f0838a0d",
   "metadata": {},
   "outputs": [
    {
     "data": {
      "text/plain": [
       "[0.23071651220964065,\n",
       " 0.23028120670909039,\n",
       " 0.2437759384146713,\n",
       " 0.25030565151718664,\n",
       " 0.26380042675418824,\n",
       " 0.27337732189197583,\n",
       " 0.2799070349944912,\n",
       " 0.2812129950275626,\n",
       " 0.276859852959219,\n",
       " 0.2651063432558389,\n",
       " 0.27207136185890446,\n",
       " 0.26467103775528866,\n",
       " 0.2672829142900107,\n",
       " 0.2633650777222174,\n",
       " 0.26380042675418824,\n",
       " 0.26249446672111687,\n",
       " 0.2529175715833294,\n",
       " 0.26075320118749534,\n",
       " 0.26684760878946046,\n",
       " 0.26380042675418824,\n",
       " 0.25248222255135844,\n",
       " 0.24769377498246467,\n",
       " 0.23898749084577756,\n",
       " 0.23681091981160576,\n",
       " 0.22853994117546886,\n",
       " 0.21896304603768127,\n",
       " 0.21548051497043816,\n",
       " 0.20938615089989374,\n",
       " 0.19632672469486304,\n",
       " 0.19502076466179166,\n",
       " 0.19371480462872034,\n",
       " 0.20416235429902904,\n",
       " 0.20198578326485725,\n",
       " 0.20851549636737257,\n",
       " 0.21460990396933774,\n",
       " 0.22679871917326797,\n",
       " 0.21939835153823148,\n",
       " 0.21460990396933774,\n",
       " 0.21678647500350948,\n",
       " 0.21983365703878174,\n",
       " 0.22592806464074686,\n",
       " 0.21852774053713106,\n",
       " 0.22592806464074686,\n",
       " 0.2581413246527734,\n",
       " 0.24769377498246467,\n",
       " 0.23768157434412687,\n",
       " 0.248999735015536,\n",
       " 0.2559647536186016,\n",
       " 0.24812908048301488,\n",
       " 0.23637561431105555,\n",
       " 0.23202247224271197,\n",
       " 0.2328930832438124,\n",
       " 0.23245777774326218,\n",
       " 0.21765708600460995,\n",
       " 0.21199802743461574,\n",
       " 0.20938615089989374,\n",
       " 0.22026900607075264,\n",
       " 0.21678647500350948,\n",
       " 0.21678647500350948,\n",
       " 0.22288088260547465,\n",
       " 0.22679871917326797,\n",
       " 0.22375149360657506,\n",
       " 0.21852774053713106,\n",
       " 0.21852774053713106,\n",
       " 0.21069206740154436,\n",
       " 0.21243333293516595,\n",
       " 0.21199802743461574,\n",
       " 0.20982145640044395,\n",
       " 0.22549275914019665,\n",
       " 0.22375149360657506,\n",
       " 0.24203471641247046,\n",
       " 0.23550500330995508,\n",
       " 0.23202247224271197,\n",
       " 0.22549275914019665,\n",
       " 0.22331618810602485,\n",
       " 0.23898749084577756,\n",
       " 0.23332843227578334,\n",
       " 0.24159936738049956,\n",
       " 0.2777304639603194,\n",
       " 0.29601364323479407,\n",
       " 0.3090730694398248,\n",
       " 0.338239147416579,\n",
       " 0.31821470260848284,\n",
       " 0.33170943431406374,\n",
       " 0.3386744529171293,\n",
       " 0.3386744529171293,\n",
       " 0.343462900486023,\n",
       " 0.33258004531516416,\n",
       " 0.3560870211905035,\n",
       " 0.36087546875939736,\n",
       " 0.36696987636136247,\n",
       " 0.3730642839633276,\n",
       " 0.38177056810001475,\n",
       " 0.3835118336336363,\n",
       " 0.3961359108066961,\n",
       " 0.38568840466780807,\n",
       " 0.3861236753432217,\n",
       " 0.3874296266700089,\n",
       " 0.38089991356749353,\n",
       " 0.3917827687383525]"
      ]
     },
     "execution_count": 86,
     "metadata": {},
     "output_type": "execute_result"
    }
   ],
   "source": [
    "temp_input"
   ]
  },
  {
   "cell_type": "code",
   "execution_count": 87,
   "id": "eb7409c1",
   "metadata": {},
   "outputs": [
    {
     "name": "stdout",
     "output_type": "stream",
     "text": [
      "[0.38953364]\n",
      "101\n",
      "1 day input [0.23028121 0.24377594 0.25030565 0.26380043 0.27337732 0.27990703\n",
      " 0.281213   0.27685985 0.26510634 0.27207136 0.26467104 0.26728291\n",
      " 0.26336508 0.26380043 0.26249447 0.25291757 0.2607532  0.26684761\n",
      " 0.26380043 0.25248222 0.24769377 0.23898749 0.23681092 0.22853994\n",
      " 0.21896305 0.21548051 0.20938615 0.19632672 0.19502076 0.1937148\n",
      " 0.20416235 0.20198578 0.2085155  0.2146099  0.22679872 0.21939835\n",
      " 0.2146099  0.21678648 0.21983366 0.22592806 0.21852774 0.22592806\n",
      " 0.25814132 0.24769377 0.23768157 0.24899974 0.25596475 0.24812908\n",
      " 0.23637561 0.23202247 0.23289308 0.23245778 0.21765709 0.21199803\n",
      " 0.20938615 0.22026901 0.21678648 0.21678648 0.22288088 0.22679872\n",
      " 0.22375149 0.21852774 0.21852774 0.21069207 0.21243333 0.21199803\n",
      " 0.20982146 0.22549276 0.22375149 0.24203472 0.235505   0.23202247\n",
      " 0.22549276 0.22331619 0.23898749 0.23332843 0.24159937 0.27773046\n",
      " 0.29601364 0.30907307 0.33823915 0.3182147  0.33170943 0.33867445\n",
      " 0.33867445 0.3434629  0.33258005 0.35608702 0.36087547 0.36696988\n",
      " 0.37306428 0.38177057 0.38351183 0.39613591 0.3856884  0.38612368\n",
      " 0.38742963 0.38089991 0.39178277 0.38953364]\n",
      "1 day output [[0.38812646]]\n",
      "2 day input [0.24377594 0.25030565 0.26380043 0.27337732 0.27990703 0.281213\n",
      " 0.27685985 0.26510634 0.27207136 0.26467104 0.26728291 0.26336508\n",
      " 0.26380043 0.26249447 0.25291757 0.2607532  0.26684761 0.26380043\n",
      " 0.25248222 0.24769377 0.23898749 0.23681092 0.22853994 0.21896305\n",
      " 0.21548051 0.20938615 0.19632672 0.19502076 0.1937148  0.20416235\n",
      " 0.20198578 0.2085155  0.2146099  0.22679872 0.21939835 0.2146099\n",
      " 0.21678648 0.21983366 0.22592806 0.21852774 0.22592806 0.25814132\n",
      " 0.24769377 0.23768157 0.24899974 0.25596475 0.24812908 0.23637561\n",
      " 0.23202247 0.23289308 0.23245778 0.21765709 0.21199803 0.20938615\n",
      " 0.22026901 0.21678648 0.21678648 0.22288088 0.22679872 0.22375149\n",
      " 0.21852774 0.21852774 0.21069207 0.21243333 0.21199803 0.20982146\n",
      " 0.22549276 0.22375149 0.24203472 0.235505   0.23202247 0.22549276\n",
      " 0.22331619 0.23898749 0.23332843 0.24159937 0.27773046 0.29601364\n",
      " 0.30907307 0.33823915 0.3182147  0.33170943 0.33867445 0.33867445\n",
      " 0.3434629  0.33258005 0.35608702 0.36087547 0.36696988 0.37306428\n",
      " 0.38177057 0.38351183 0.39613591 0.3856884  0.38612368 0.38742963\n",
      " 0.38089991 0.39178277 0.38953364 0.38812646]\n",
      "2 day output [[0.38676667]]\n",
      "3 day input [0.25030565 0.26380043 0.27337732 0.27990703 0.281213   0.27685985\n",
      " 0.26510634 0.27207136 0.26467104 0.26728291 0.26336508 0.26380043\n",
      " 0.26249447 0.25291757 0.2607532  0.26684761 0.26380043 0.25248222\n",
      " 0.24769377 0.23898749 0.23681092 0.22853994 0.21896305 0.21548051\n",
      " 0.20938615 0.19632672 0.19502076 0.1937148  0.20416235 0.20198578\n",
      " 0.2085155  0.2146099  0.22679872 0.21939835 0.2146099  0.21678648\n",
      " 0.21983366 0.22592806 0.21852774 0.22592806 0.25814132 0.24769377\n",
      " 0.23768157 0.24899974 0.25596475 0.24812908 0.23637561 0.23202247\n",
      " 0.23289308 0.23245778 0.21765709 0.21199803 0.20938615 0.22026901\n",
      " 0.21678648 0.21678648 0.22288088 0.22679872 0.22375149 0.21852774\n",
      " 0.21852774 0.21069207 0.21243333 0.21199803 0.20982146 0.22549276\n",
      " 0.22375149 0.24203472 0.235505   0.23202247 0.22549276 0.22331619\n",
      " 0.23898749 0.23332843 0.24159937 0.27773046 0.29601364 0.30907307\n",
      " 0.33823915 0.3182147  0.33170943 0.33867445 0.33867445 0.3434629\n",
      " 0.33258005 0.35608702 0.36087547 0.36696988 0.37306428 0.38177057\n",
      " 0.38351183 0.39613591 0.3856884  0.38612368 0.38742963 0.38089991\n",
      " 0.39178277 0.38953364 0.38812646 0.38676667]\n",
      "3 day output [[0.38541004]]\n",
      "4 day input [0.26380043 0.27337732 0.27990703 0.281213   0.27685985 0.26510634\n",
      " 0.27207136 0.26467104 0.26728291 0.26336508 0.26380043 0.26249447\n",
      " 0.25291757 0.2607532  0.26684761 0.26380043 0.25248222 0.24769377\n",
      " 0.23898749 0.23681092 0.22853994 0.21896305 0.21548051 0.20938615\n",
      " 0.19632672 0.19502076 0.1937148  0.20416235 0.20198578 0.2085155\n",
      " 0.2146099  0.22679872 0.21939835 0.2146099  0.21678648 0.21983366\n",
      " 0.22592806 0.21852774 0.22592806 0.25814132 0.24769377 0.23768157\n",
      " 0.24899974 0.25596475 0.24812908 0.23637561 0.23202247 0.23289308\n",
      " 0.23245778 0.21765709 0.21199803 0.20938615 0.22026901 0.21678648\n",
      " 0.21678648 0.22288088 0.22679872 0.22375149 0.21852774 0.21852774\n",
      " 0.21069207 0.21243333 0.21199803 0.20982146 0.22549276 0.22375149\n",
      " 0.24203472 0.235505   0.23202247 0.22549276 0.22331619 0.23898749\n",
      " 0.23332843 0.24159937 0.27773046 0.29601364 0.30907307 0.33823915\n",
      " 0.3182147  0.33170943 0.33867445 0.33867445 0.3434629  0.33258005\n",
      " 0.35608702 0.36087547 0.36696988 0.37306428 0.38177057 0.38351183\n",
      " 0.39613591 0.3856884  0.38612368 0.38742963 0.38089991 0.39178277\n",
      " 0.38953364 0.38812646 0.38676667 0.38541004]\n",
      "4 day output [[0.38398156]]\n",
      "5 day input [0.27337732 0.27990703 0.281213   0.27685985 0.26510634 0.27207136\n",
      " 0.26467104 0.26728291 0.26336508 0.26380043 0.26249447 0.25291757\n",
      " 0.2607532  0.26684761 0.26380043 0.25248222 0.24769377 0.23898749\n",
      " 0.23681092 0.22853994 0.21896305 0.21548051 0.20938615 0.19632672\n",
      " 0.19502076 0.1937148  0.20416235 0.20198578 0.2085155  0.2146099\n",
      " 0.22679872 0.21939835 0.2146099  0.21678648 0.21983366 0.22592806\n",
      " 0.21852774 0.22592806 0.25814132 0.24769377 0.23768157 0.24899974\n",
      " 0.25596475 0.24812908 0.23637561 0.23202247 0.23289308 0.23245778\n",
      " 0.21765709 0.21199803 0.20938615 0.22026901 0.21678648 0.21678648\n",
      " 0.22288088 0.22679872 0.22375149 0.21852774 0.21852774 0.21069207\n",
      " 0.21243333 0.21199803 0.20982146 0.22549276 0.22375149 0.24203472\n",
      " 0.235505   0.23202247 0.22549276 0.22331619 0.23898749 0.23332843\n",
      " 0.24159937 0.27773046 0.29601364 0.30907307 0.33823915 0.3182147\n",
      " 0.33170943 0.33867445 0.33867445 0.3434629  0.33258005 0.35608702\n",
      " 0.36087547 0.36696988 0.37306428 0.38177057 0.38351183 0.39613591\n",
      " 0.3856884  0.38612368 0.38742963 0.38089991 0.39178277 0.38953364\n",
      " 0.38812646 0.38676667 0.38541004 0.38398156]\n",
      "5 day output [[0.38242748]]\n",
      "6 day input [0.27990703 0.281213   0.27685985 0.26510634 0.27207136 0.26467104\n",
      " 0.26728291 0.26336508 0.26380043 0.26249447 0.25291757 0.2607532\n",
      " 0.26684761 0.26380043 0.25248222 0.24769377 0.23898749 0.23681092\n",
      " 0.22853994 0.21896305 0.21548051 0.20938615 0.19632672 0.19502076\n",
      " 0.1937148  0.20416235 0.20198578 0.2085155  0.2146099  0.22679872\n",
      " 0.21939835 0.2146099  0.21678648 0.21983366 0.22592806 0.21852774\n",
      " 0.22592806 0.25814132 0.24769377 0.23768157 0.24899974 0.25596475\n",
      " 0.24812908 0.23637561 0.23202247 0.23289308 0.23245778 0.21765709\n",
      " 0.21199803 0.20938615 0.22026901 0.21678648 0.21678648 0.22288088\n",
      " 0.22679872 0.22375149 0.21852774 0.21852774 0.21069207 0.21243333\n",
      " 0.21199803 0.20982146 0.22549276 0.22375149 0.24203472 0.235505\n",
      " 0.23202247 0.22549276 0.22331619 0.23898749 0.23332843 0.24159937\n",
      " 0.27773046 0.29601364 0.30907307 0.33823915 0.3182147  0.33170943\n",
      " 0.33867445 0.33867445 0.3434629  0.33258005 0.35608702 0.36087547\n",
      " 0.36696988 0.37306428 0.38177057 0.38351183 0.39613591 0.3856884\n",
      " 0.38612368 0.38742963 0.38089991 0.39178277 0.38953364 0.38812646\n",
      " 0.38676667 0.38541004 0.38398156 0.38242748]\n",
      "6 day output [[0.3807247]]\n",
      "7 day input [0.281213   0.27685985 0.26510634 0.27207136 0.26467104 0.26728291\n",
      " 0.26336508 0.26380043 0.26249447 0.25291757 0.2607532  0.26684761\n",
      " 0.26380043 0.25248222 0.24769377 0.23898749 0.23681092 0.22853994\n",
      " 0.21896305 0.21548051 0.20938615 0.19632672 0.19502076 0.1937148\n",
      " 0.20416235 0.20198578 0.2085155  0.2146099  0.22679872 0.21939835\n",
      " 0.2146099  0.21678648 0.21983366 0.22592806 0.21852774 0.22592806\n",
      " 0.25814132 0.24769377 0.23768157 0.24899974 0.25596475 0.24812908\n",
      " 0.23637561 0.23202247 0.23289308 0.23245778 0.21765709 0.21199803\n",
      " 0.20938615 0.22026901 0.21678648 0.21678648 0.22288088 0.22679872\n",
      " 0.22375149 0.21852774 0.21852774 0.21069207 0.21243333 0.21199803\n",
      " 0.20982146 0.22549276 0.22375149 0.24203472 0.235505   0.23202247\n",
      " 0.22549276 0.22331619 0.23898749 0.23332843 0.24159937 0.27773046\n",
      " 0.29601364 0.30907307 0.33823915 0.3182147  0.33170943 0.33867445\n",
      " 0.33867445 0.3434629  0.33258005 0.35608702 0.36087547 0.36696988\n",
      " 0.37306428 0.38177057 0.38351183 0.39613591 0.3856884  0.38612368\n",
      " 0.38742963 0.38089991 0.39178277 0.38953364 0.38812646 0.38676667\n",
      " 0.38541004 0.38398156 0.38242748 0.3807247 ]\n",
      "7 day output [[0.378873]]\n",
      "8 day input [0.27685985 0.26510634 0.27207136 0.26467104 0.26728291 0.26336508\n",
      " 0.26380043 0.26249447 0.25291757 0.2607532  0.26684761 0.26380043\n",
      " 0.25248222 0.24769377 0.23898749 0.23681092 0.22853994 0.21896305\n",
      " 0.21548051 0.20938615 0.19632672 0.19502076 0.1937148  0.20416235\n",
      " 0.20198578 0.2085155  0.2146099  0.22679872 0.21939835 0.2146099\n",
      " 0.21678648 0.21983366 0.22592806 0.21852774 0.22592806 0.25814132\n",
      " 0.24769377 0.23768157 0.24899974 0.25596475 0.24812908 0.23637561\n",
      " 0.23202247 0.23289308 0.23245778 0.21765709 0.21199803 0.20938615\n",
      " 0.22026901 0.21678648 0.21678648 0.22288088 0.22679872 0.22375149\n",
      " 0.21852774 0.21852774 0.21069207 0.21243333 0.21199803 0.20982146\n",
      " 0.22549276 0.22375149 0.24203472 0.235505   0.23202247 0.22549276\n",
      " 0.22331619 0.23898749 0.23332843 0.24159937 0.27773046 0.29601364\n",
      " 0.30907307 0.33823915 0.3182147  0.33170943 0.33867445 0.33867445\n",
      " 0.3434629  0.33258005 0.35608702 0.36087547 0.36696988 0.37306428\n",
      " 0.38177057 0.38351183 0.39613591 0.3856884  0.38612368 0.38742963\n",
      " 0.38089991 0.39178277 0.38953364 0.38812646 0.38676667 0.38541004\n",
      " 0.38398156 0.38242748 0.3807247  0.37887299]\n",
      "8 day output [[0.37688383]]\n",
      "9 day input [0.26510634 0.27207136 0.26467104 0.26728291 0.26336508 0.26380043\n",
      " 0.26249447 0.25291757 0.2607532  0.26684761 0.26380043 0.25248222\n",
      " 0.24769377 0.23898749 0.23681092 0.22853994 0.21896305 0.21548051\n",
      " 0.20938615 0.19632672 0.19502076 0.1937148  0.20416235 0.20198578\n",
      " 0.2085155  0.2146099  0.22679872 0.21939835 0.2146099  0.21678648\n",
      " 0.21983366 0.22592806 0.21852774 0.22592806 0.25814132 0.24769377\n",
      " 0.23768157 0.24899974 0.25596475 0.24812908 0.23637561 0.23202247\n",
      " 0.23289308 0.23245778 0.21765709 0.21199803 0.20938615 0.22026901\n",
      " 0.21678648 0.21678648 0.22288088 0.22679872 0.22375149 0.21852774\n",
      " 0.21852774 0.21069207 0.21243333 0.21199803 0.20982146 0.22549276\n",
      " 0.22375149 0.24203472 0.235505   0.23202247 0.22549276 0.22331619\n",
      " 0.23898749 0.23332843 0.24159937 0.27773046 0.29601364 0.30907307\n",
      " 0.33823915 0.3182147  0.33170943 0.33867445 0.33867445 0.3434629\n",
      " 0.33258005 0.35608702 0.36087547 0.36696988 0.37306428 0.38177057\n",
      " 0.38351183 0.39613591 0.3856884  0.38612368 0.38742963 0.38089991\n",
      " 0.39178277 0.38953364 0.38812646 0.38676667 0.38541004 0.38398156\n",
      " 0.38242748 0.3807247  0.37887299 0.37688383]\n"
     ]
    },
    {
     "name": "stdout",
     "output_type": "stream",
     "text": [
      "9 day output [[0.3747733]]\n",
      "10 day input [0.27207136 0.26467104 0.26728291 0.26336508 0.26380043 0.26249447\n",
      " 0.25291757 0.2607532  0.26684761 0.26380043 0.25248222 0.24769377\n",
      " 0.23898749 0.23681092 0.22853994 0.21896305 0.21548051 0.20938615\n",
      " 0.19632672 0.19502076 0.1937148  0.20416235 0.20198578 0.2085155\n",
      " 0.2146099  0.22679872 0.21939835 0.2146099  0.21678648 0.21983366\n",
      " 0.22592806 0.21852774 0.22592806 0.25814132 0.24769377 0.23768157\n",
      " 0.24899974 0.25596475 0.24812908 0.23637561 0.23202247 0.23289308\n",
      " 0.23245778 0.21765709 0.21199803 0.20938615 0.22026901 0.21678648\n",
      " 0.21678648 0.22288088 0.22679872 0.22375149 0.21852774 0.21852774\n",
      " 0.21069207 0.21243333 0.21199803 0.20982146 0.22549276 0.22375149\n",
      " 0.24203472 0.235505   0.23202247 0.22549276 0.22331619 0.23898749\n",
      " 0.23332843 0.24159937 0.27773046 0.29601364 0.30907307 0.33823915\n",
      " 0.3182147  0.33170943 0.33867445 0.33867445 0.3434629  0.33258005\n",
      " 0.35608702 0.36087547 0.36696988 0.37306428 0.38177057 0.38351183\n",
      " 0.39613591 0.3856884  0.38612368 0.38742963 0.38089991 0.39178277\n",
      " 0.38953364 0.38812646 0.38676667 0.38541004 0.38398156 0.38242748\n",
      " 0.3807247  0.37887299 0.37688383 0.37477329]\n",
      "10 day output [[0.3725581]]\n",
      "11 day input [0.26467104 0.26728291 0.26336508 0.26380043 0.26249447 0.25291757\n",
      " 0.2607532  0.26684761 0.26380043 0.25248222 0.24769377 0.23898749\n",
      " 0.23681092 0.22853994 0.21896305 0.21548051 0.20938615 0.19632672\n",
      " 0.19502076 0.1937148  0.20416235 0.20198578 0.2085155  0.2146099\n",
      " 0.22679872 0.21939835 0.2146099  0.21678648 0.21983366 0.22592806\n",
      " 0.21852774 0.22592806 0.25814132 0.24769377 0.23768157 0.24899974\n",
      " 0.25596475 0.24812908 0.23637561 0.23202247 0.23289308 0.23245778\n",
      " 0.21765709 0.21199803 0.20938615 0.22026901 0.21678648 0.21678648\n",
      " 0.22288088 0.22679872 0.22375149 0.21852774 0.21852774 0.21069207\n",
      " 0.21243333 0.21199803 0.20982146 0.22549276 0.22375149 0.24203472\n",
      " 0.235505   0.23202247 0.22549276 0.22331619 0.23898749 0.23332843\n",
      " 0.24159937 0.27773046 0.29601364 0.30907307 0.33823915 0.3182147\n",
      " 0.33170943 0.33867445 0.33867445 0.3434629  0.33258005 0.35608702\n",
      " 0.36087547 0.36696988 0.37306428 0.38177057 0.38351183 0.39613591\n",
      " 0.3856884  0.38612368 0.38742963 0.38089991 0.39178277 0.38953364\n",
      " 0.38812646 0.38676667 0.38541004 0.38398156 0.38242748 0.3807247\n",
      " 0.37887299 0.37688383 0.37477329 0.37255809]\n",
      "11 day output [[0.37025338]]\n",
      "12 day input [0.26728291 0.26336508 0.26380043 0.26249447 0.25291757 0.2607532\n",
      " 0.26684761 0.26380043 0.25248222 0.24769377 0.23898749 0.23681092\n",
      " 0.22853994 0.21896305 0.21548051 0.20938615 0.19632672 0.19502076\n",
      " 0.1937148  0.20416235 0.20198578 0.2085155  0.2146099  0.22679872\n",
      " 0.21939835 0.2146099  0.21678648 0.21983366 0.22592806 0.21852774\n",
      " 0.22592806 0.25814132 0.24769377 0.23768157 0.24899974 0.25596475\n",
      " 0.24812908 0.23637561 0.23202247 0.23289308 0.23245778 0.21765709\n",
      " 0.21199803 0.20938615 0.22026901 0.21678648 0.21678648 0.22288088\n",
      " 0.22679872 0.22375149 0.21852774 0.21852774 0.21069207 0.21243333\n",
      " 0.21199803 0.20982146 0.22549276 0.22375149 0.24203472 0.235505\n",
      " 0.23202247 0.22549276 0.22331619 0.23898749 0.23332843 0.24159937\n",
      " 0.27773046 0.29601364 0.30907307 0.33823915 0.3182147  0.33170943\n",
      " 0.33867445 0.33867445 0.3434629  0.33258005 0.35608702 0.36087547\n",
      " 0.36696988 0.37306428 0.38177057 0.38351183 0.39613591 0.3856884\n",
      " 0.38612368 0.38742963 0.38089991 0.39178277 0.38953364 0.38812646\n",
      " 0.38676667 0.38541004 0.38398156 0.38242748 0.3807247  0.37887299\n",
      " 0.37688383 0.37477329 0.37255809 0.37025338]\n",
      "12 day output [[0.36787316]]\n",
      "13 day input [0.26336508 0.26380043 0.26249447 0.25291757 0.2607532  0.26684761\n",
      " 0.26380043 0.25248222 0.24769377 0.23898749 0.23681092 0.22853994\n",
      " 0.21896305 0.21548051 0.20938615 0.19632672 0.19502076 0.1937148\n",
      " 0.20416235 0.20198578 0.2085155  0.2146099  0.22679872 0.21939835\n",
      " 0.2146099  0.21678648 0.21983366 0.22592806 0.21852774 0.22592806\n",
      " 0.25814132 0.24769377 0.23768157 0.24899974 0.25596475 0.24812908\n",
      " 0.23637561 0.23202247 0.23289308 0.23245778 0.21765709 0.21199803\n",
      " 0.20938615 0.22026901 0.21678648 0.21678648 0.22288088 0.22679872\n",
      " 0.22375149 0.21852774 0.21852774 0.21069207 0.21243333 0.21199803\n",
      " 0.20982146 0.22549276 0.22375149 0.24203472 0.235505   0.23202247\n",
      " 0.22549276 0.22331619 0.23898749 0.23332843 0.24159937 0.27773046\n",
      " 0.29601364 0.30907307 0.33823915 0.3182147  0.33170943 0.33867445\n",
      " 0.33867445 0.3434629  0.33258005 0.35608702 0.36087547 0.36696988\n",
      " 0.37306428 0.38177057 0.38351183 0.39613591 0.3856884  0.38612368\n",
      " 0.38742963 0.38089991 0.39178277 0.38953364 0.38812646 0.38676667\n",
      " 0.38541004 0.38398156 0.38242748 0.3807247  0.37887299 0.37688383\n",
      " 0.37477329 0.37255809 0.37025338 0.36787316]\n",
      "13 day output [[0.3654308]]\n",
      "14 day input [0.26380043 0.26249447 0.25291757 0.2607532  0.26684761 0.26380043\n",
      " 0.25248222 0.24769377 0.23898749 0.23681092 0.22853994 0.21896305\n",
      " 0.21548051 0.20938615 0.19632672 0.19502076 0.1937148  0.20416235\n",
      " 0.20198578 0.2085155  0.2146099  0.22679872 0.21939835 0.2146099\n",
      " 0.21678648 0.21983366 0.22592806 0.21852774 0.22592806 0.25814132\n",
      " 0.24769377 0.23768157 0.24899974 0.25596475 0.24812908 0.23637561\n",
      " 0.23202247 0.23289308 0.23245778 0.21765709 0.21199803 0.20938615\n",
      " 0.22026901 0.21678648 0.21678648 0.22288088 0.22679872 0.22375149\n",
      " 0.21852774 0.21852774 0.21069207 0.21243333 0.21199803 0.20982146\n",
      " 0.22549276 0.22375149 0.24203472 0.235505   0.23202247 0.22549276\n",
      " 0.22331619 0.23898749 0.23332843 0.24159937 0.27773046 0.29601364\n",
      " 0.30907307 0.33823915 0.3182147  0.33170943 0.33867445 0.33867445\n",
      " 0.3434629  0.33258005 0.35608702 0.36087547 0.36696988 0.37306428\n",
      " 0.38177057 0.38351183 0.39613591 0.3856884  0.38612368 0.38742963\n",
      " 0.38089991 0.39178277 0.38953364 0.38812646 0.38676667 0.38541004\n",
      " 0.38398156 0.38242748 0.3807247  0.37887299 0.37688383 0.37477329\n",
      " 0.37255809 0.37025338 0.36787316 0.3654308 ]\n",
      "14 day output [[0.36293933]]\n",
      "15 day input [0.26249447 0.25291757 0.2607532  0.26684761 0.26380043 0.25248222\n",
      " 0.24769377 0.23898749 0.23681092 0.22853994 0.21896305 0.21548051\n",
      " 0.20938615 0.19632672 0.19502076 0.1937148  0.20416235 0.20198578\n",
      " 0.2085155  0.2146099  0.22679872 0.21939835 0.2146099  0.21678648\n",
      " 0.21983366 0.22592806 0.21852774 0.22592806 0.25814132 0.24769377\n",
      " 0.23768157 0.24899974 0.25596475 0.24812908 0.23637561 0.23202247\n",
      " 0.23289308 0.23245778 0.21765709 0.21199803 0.20938615 0.22026901\n",
      " 0.21678648 0.21678648 0.22288088 0.22679872 0.22375149 0.21852774\n",
      " 0.21852774 0.21069207 0.21243333 0.21199803 0.20982146 0.22549276\n",
      " 0.22375149 0.24203472 0.235505   0.23202247 0.22549276 0.22331619\n",
      " 0.23898749 0.23332843 0.24159937 0.27773046 0.29601364 0.30907307\n",
      " 0.33823915 0.3182147  0.33170943 0.33867445 0.33867445 0.3434629\n",
      " 0.33258005 0.35608702 0.36087547 0.36696988 0.37306428 0.38177057\n",
      " 0.38351183 0.39613591 0.3856884  0.38612368 0.38742963 0.38089991\n",
      " 0.39178277 0.38953364 0.38812646 0.38676667 0.38541004 0.38398156\n",
      " 0.38242748 0.3807247  0.37887299 0.37688383 0.37477329 0.37255809\n",
      " 0.37025338 0.36787316 0.3654308  0.36293933]\n",
      "15 day output [[0.36041105]]\n",
      "16 day input [0.25291757 0.2607532  0.26684761 0.26380043 0.25248222 0.24769377\n",
      " 0.23898749 0.23681092 0.22853994 0.21896305 0.21548051 0.20938615\n",
      " 0.19632672 0.19502076 0.1937148  0.20416235 0.20198578 0.2085155\n",
      " 0.2146099  0.22679872 0.21939835 0.2146099  0.21678648 0.21983366\n",
      " 0.22592806 0.21852774 0.22592806 0.25814132 0.24769377 0.23768157\n",
      " 0.24899974 0.25596475 0.24812908 0.23637561 0.23202247 0.23289308\n",
      " 0.23245778 0.21765709 0.21199803 0.20938615 0.22026901 0.21678648\n",
      " 0.21678648 0.22288088 0.22679872 0.22375149 0.21852774 0.21852774\n",
      " 0.21069207 0.21243333 0.21199803 0.20982146 0.22549276 0.22375149\n",
      " 0.24203472 0.235505   0.23202247 0.22549276 0.22331619 0.23898749\n",
      " 0.23332843 0.24159937 0.27773046 0.29601364 0.30907307 0.33823915\n",
      " 0.3182147  0.33170943 0.33867445 0.33867445 0.3434629  0.33258005\n",
      " 0.35608702 0.36087547 0.36696988 0.37306428 0.38177057 0.38351183\n",
      " 0.39613591 0.3856884  0.38612368 0.38742963 0.38089991 0.39178277\n",
      " 0.38953364 0.38812646 0.38676667 0.38541004 0.38398156 0.38242748\n",
      " 0.3807247  0.37887299 0.37688383 0.37477329 0.37255809 0.37025338\n",
      " 0.36787316 0.3654308  0.36293933 0.36041105]\n",
      "16 day output [[0.3578587]]\n",
      "17 day input [0.2607532  0.26684761 0.26380043 0.25248222 0.24769377 0.23898749\n",
      " 0.23681092 0.22853994 0.21896305 0.21548051 0.20938615 0.19632672\n",
      " 0.19502076 0.1937148  0.20416235 0.20198578 0.2085155  0.2146099\n",
      " 0.22679872 0.21939835 0.2146099  0.21678648 0.21983366 0.22592806\n",
      " 0.21852774 0.22592806 0.25814132 0.24769377 0.23768157 0.24899974\n",
      " 0.25596475 0.24812908 0.23637561 0.23202247 0.23289308 0.23245778\n",
      " 0.21765709 0.21199803 0.20938615 0.22026901 0.21678648 0.21678648\n",
      " 0.22288088 0.22679872 0.22375149 0.21852774 0.21852774 0.21069207\n",
      " 0.21243333 0.21199803 0.20982146 0.22549276 0.22375149 0.24203472\n",
      " 0.235505   0.23202247 0.22549276 0.22331619 0.23898749 0.23332843\n",
      " 0.24159937 0.27773046 0.29601364 0.30907307 0.33823915 0.3182147\n",
      " 0.33170943 0.33867445 0.33867445 0.3434629  0.33258005 0.35608702\n",
      " 0.36087547 0.36696988 0.37306428 0.38177057 0.38351183 0.39613591\n",
      " 0.3856884  0.38612368 0.38742963 0.38089991 0.39178277 0.38953364\n",
      " 0.38812646 0.38676667 0.38541004 0.38398156 0.38242748 0.3807247\n",
      " 0.37887299 0.37688383 0.37477329 0.37255809 0.37025338 0.36787316\n",
      " 0.3654308  0.36293933 0.36041105 0.35785869]\n",
      "17 day output [[0.3552947]]\n",
      "18 day input [0.26684761 0.26380043 0.25248222 0.24769377 0.23898749 0.23681092\n",
      " 0.22853994 0.21896305 0.21548051 0.20938615 0.19632672 0.19502076\n",
      " 0.1937148  0.20416235 0.20198578 0.2085155  0.2146099  0.22679872\n",
      " 0.21939835 0.2146099  0.21678648 0.21983366 0.22592806 0.21852774\n",
      " 0.22592806 0.25814132 0.24769377 0.23768157 0.24899974 0.25596475\n",
      " 0.24812908 0.23637561 0.23202247 0.23289308 0.23245778 0.21765709\n",
      " 0.21199803 0.20938615 0.22026901 0.21678648 0.21678648 0.22288088\n",
      " 0.22679872 0.22375149 0.21852774 0.21852774 0.21069207 0.21243333\n",
      " 0.21199803 0.20982146 0.22549276 0.22375149 0.24203472 0.235505\n",
      " 0.23202247 0.22549276 0.22331619 0.23898749 0.23332843 0.24159937\n",
      " 0.27773046 0.29601364 0.30907307 0.33823915 0.3182147  0.33170943\n",
      " 0.33867445 0.33867445 0.3434629  0.33258005 0.35608702 0.36087547\n",
      " 0.36696988 0.37306428 0.38177057 0.38351183 0.39613591 0.3856884\n",
      " 0.38612368 0.38742963 0.38089991 0.39178277 0.38953364 0.38812646\n",
      " 0.38676667 0.38541004 0.38398156 0.38242748 0.3807247  0.37887299\n",
      " 0.37688383 0.37477329 0.37255809 0.37025338 0.36787316 0.3654308\n",
      " 0.36293933 0.36041105 0.35785869 0.3552947 ]\n",
      "18 day output [[0.35273084]]\n",
      "19 day input [0.26380043 0.25248222 0.24769377 0.23898749 0.23681092 0.22853994\n",
      " 0.21896305 0.21548051 0.20938615 0.19632672 0.19502076 0.1937148\n",
      " 0.20416235 0.20198578 0.2085155  0.2146099  0.22679872 0.21939835\n",
      " 0.2146099  0.21678648 0.21983366 0.22592806 0.21852774 0.22592806\n",
      " 0.25814132 0.24769377 0.23768157 0.24899974 0.25596475 0.24812908\n",
      " 0.23637561 0.23202247 0.23289308 0.23245778 0.21765709 0.21199803\n",
      " 0.20938615 0.22026901 0.21678648 0.21678648 0.22288088 0.22679872\n",
      " 0.22375149 0.21852774 0.21852774 0.21069207 0.21243333 0.21199803\n",
      " 0.20982146 0.22549276 0.22375149 0.24203472 0.235505   0.23202247\n",
      " 0.22549276 0.22331619 0.23898749 0.23332843 0.24159937 0.27773046\n",
      " 0.29601364 0.30907307 0.33823915 0.3182147  0.33170943 0.33867445\n",
      " 0.33867445 0.3434629  0.33258005 0.35608702 0.36087547 0.36696988\n",
      " 0.37306428 0.38177057 0.38351183 0.39613591 0.3856884  0.38612368\n",
      " 0.38742963 0.38089991 0.39178277 0.38953364 0.38812646 0.38676667\n",
      " 0.38541004 0.38398156 0.38242748 0.3807247  0.37887299 0.37688383\n",
      " 0.37477329 0.37255809 0.37025338 0.36787316 0.3654308  0.36293933\n",
      " 0.36041105 0.35785869 0.3552947  0.35273084]\n"
     ]
    },
    {
     "name": "stdout",
     "output_type": "stream",
     "text": [
      "19 day output [[0.3501785]]\n",
      "20 day input [0.25248222 0.24769377 0.23898749 0.23681092 0.22853994 0.21896305\n",
      " 0.21548051 0.20938615 0.19632672 0.19502076 0.1937148  0.20416235\n",
      " 0.20198578 0.2085155  0.2146099  0.22679872 0.21939835 0.2146099\n",
      " 0.21678648 0.21983366 0.22592806 0.21852774 0.22592806 0.25814132\n",
      " 0.24769377 0.23768157 0.24899974 0.25596475 0.24812908 0.23637561\n",
      " 0.23202247 0.23289308 0.23245778 0.21765709 0.21199803 0.20938615\n",
      " 0.22026901 0.21678648 0.21678648 0.22288088 0.22679872 0.22375149\n",
      " 0.21852774 0.21852774 0.21069207 0.21243333 0.21199803 0.20982146\n",
      " 0.22549276 0.22375149 0.24203472 0.235505   0.23202247 0.22549276\n",
      " 0.22331619 0.23898749 0.23332843 0.24159937 0.27773046 0.29601364\n",
      " 0.30907307 0.33823915 0.3182147  0.33170943 0.33867445 0.33867445\n",
      " 0.3434629  0.33258005 0.35608702 0.36087547 0.36696988 0.37306428\n",
      " 0.38177057 0.38351183 0.39613591 0.3856884  0.38612368 0.38742963\n",
      " 0.38089991 0.39178277 0.38953364 0.38812646 0.38676667 0.38541004\n",
      " 0.38398156 0.38242748 0.3807247  0.37887299 0.37688383 0.37477329\n",
      " 0.37255809 0.37025338 0.36787316 0.3654308  0.36293933 0.36041105\n",
      " 0.35785869 0.3552947  0.35273084 0.35017851]\n",
      "20 day output [[0.34764853]]\n",
      "21 day input [0.24769377 0.23898749 0.23681092 0.22853994 0.21896305 0.21548051\n",
      " 0.20938615 0.19632672 0.19502076 0.1937148  0.20416235 0.20198578\n",
      " 0.2085155  0.2146099  0.22679872 0.21939835 0.2146099  0.21678648\n",
      " 0.21983366 0.22592806 0.21852774 0.22592806 0.25814132 0.24769377\n",
      " 0.23768157 0.24899974 0.25596475 0.24812908 0.23637561 0.23202247\n",
      " 0.23289308 0.23245778 0.21765709 0.21199803 0.20938615 0.22026901\n",
      " 0.21678648 0.21678648 0.22288088 0.22679872 0.22375149 0.21852774\n",
      " 0.21852774 0.21069207 0.21243333 0.21199803 0.20982146 0.22549276\n",
      " 0.22375149 0.24203472 0.235505   0.23202247 0.22549276 0.22331619\n",
      " 0.23898749 0.23332843 0.24159937 0.27773046 0.29601364 0.30907307\n",
      " 0.33823915 0.3182147  0.33170943 0.33867445 0.33867445 0.3434629\n",
      " 0.33258005 0.35608702 0.36087547 0.36696988 0.37306428 0.38177057\n",
      " 0.38351183 0.39613591 0.3856884  0.38612368 0.38742963 0.38089991\n",
      " 0.39178277 0.38953364 0.38812646 0.38676667 0.38541004 0.38398156\n",
      " 0.38242748 0.3807247  0.37887299 0.37688383 0.37477329 0.37255809\n",
      " 0.37025338 0.36787316 0.3654308  0.36293933 0.36041105 0.35785869\n",
      " 0.3552947  0.35273084 0.35017851 0.34764853]\n",
      "21 day output [[0.34515086]]\n",
      "22 day input [0.23898749 0.23681092 0.22853994 0.21896305 0.21548051 0.20938615\n",
      " 0.19632672 0.19502076 0.1937148  0.20416235 0.20198578 0.2085155\n",
      " 0.2146099  0.22679872 0.21939835 0.2146099  0.21678648 0.21983366\n",
      " 0.22592806 0.21852774 0.22592806 0.25814132 0.24769377 0.23768157\n",
      " 0.24899974 0.25596475 0.24812908 0.23637561 0.23202247 0.23289308\n",
      " 0.23245778 0.21765709 0.21199803 0.20938615 0.22026901 0.21678648\n",
      " 0.21678648 0.22288088 0.22679872 0.22375149 0.21852774 0.21852774\n",
      " 0.21069207 0.21243333 0.21199803 0.20982146 0.22549276 0.22375149\n",
      " 0.24203472 0.235505   0.23202247 0.22549276 0.22331619 0.23898749\n",
      " 0.23332843 0.24159937 0.27773046 0.29601364 0.30907307 0.33823915\n",
      " 0.3182147  0.33170943 0.33867445 0.33867445 0.3434629  0.33258005\n",
      " 0.35608702 0.36087547 0.36696988 0.37306428 0.38177057 0.38351183\n",
      " 0.39613591 0.3856884  0.38612368 0.38742963 0.38089991 0.39178277\n",
      " 0.38953364 0.38812646 0.38676667 0.38541004 0.38398156 0.38242748\n",
      " 0.3807247  0.37887299 0.37688383 0.37477329 0.37255809 0.37025338\n",
      " 0.36787316 0.3654308  0.36293933 0.36041105 0.35785869 0.3552947\n",
      " 0.35273084 0.35017851 0.34764853 0.34515086]\n",
      "22 day output [[0.34269434]]\n",
      "23 day input [0.23681092 0.22853994 0.21896305 0.21548051 0.20938615 0.19632672\n",
      " 0.19502076 0.1937148  0.20416235 0.20198578 0.2085155  0.2146099\n",
      " 0.22679872 0.21939835 0.2146099  0.21678648 0.21983366 0.22592806\n",
      " 0.21852774 0.22592806 0.25814132 0.24769377 0.23768157 0.24899974\n",
      " 0.25596475 0.24812908 0.23637561 0.23202247 0.23289308 0.23245778\n",
      " 0.21765709 0.21199803 0.20938615 0.22026901 0.21678648 0.21678648\n",
      " 0.22288088 0.22679872 0.22375149 0.21852774 0.21852774 0.21069207\n",
      " 0.21243333 0.21199803 0.20982146 0.22549276 0.22375149 0.24203472\n",
      " 0.235505   0.23202247 0.22549276 0.22331619 0.23898749 0.23332843\n",
      " 0.24159937 0.27773046 0.29601364 0.30907307 0.33823915 0.3182147\n",
      " 0.33170943 0.33867445 0.33867445 0.3434629  0.33258005 0.35608702\n",
      " 0.36087547 0.36696988 0.37306428 0.38177057 0.38351183 0.39613591\n",
      " 0.3856884  0.38612368 0.38742963 0.38089991 0.39178277 0.38953364\n",
      " 0.38812646 0.38676667 0.38541004 0.38398156 0.38242748 0.3807247\n",
      " 0.37887299 0.37688383 0.37477329 0.37255809 0.37025338 0.36787316\n",
      " 0.3654308  0.36293933 0.36041105 0.35785869 0.3552947  0.35273084\n",
      " 0.35017851 0.34764853 0.34515086 0.34269434]\n",
      "23 day output [[0.3402868]]\n",
      "24 day input [0.22853994 0.21896305 0.21548051 0.20938615 0.19632672 0.19502076\n",
      " 0.1937148  0.20416235 0.20198578 0.2085155  0.2146099  0.22679872\n",
      " 0.21939835 0.2146099  0.21678648 0.21983366 0.22592806 0.21852774\n",
      " 0.22592806 0.25814132 0.24769377 0.23768157 0.24899974 0.25596475\n",
      " 0.24812908 0.23637561 0.23202247 0.23289308 0.23245778 0.21765709\n",
      " 0.21199803 0.20938615 0.22026901 0.21678648 0.21678648 0.22288088\n",
      " 0.22679872 0.22375149 0.21852774 0.21852774 0.21069207 0.21243333\n",
      " 0.21199803 0.20982146 0.22549276 0.22375149 0.24203472 0.235505\n",
      " 0.23202247 0.22549276 0.22331619 0.23898749 0.23332843 0.24159937\n",
      " 0.27773046 0.29601364 0.30907307 0.33823915 0.3182147  0.33170943\n",
      " 0.33867445 0.33867445 0.3434629  0.33258005 0.35608702 0.36087547\n",
      " 0.36696988 0.37306428 0.38177057 0.38351183 0.39613591 0.3856884\n",
      " 0.38612368 0.38742963 0.38089991 0.39178277 0.38953364 0.38812646\n",
      " 0.38676667 0.38541004 0.38398156 0.38242748 0.3807247  0.37887299\n",
      " 0.37688383 0.37477329 0.37255809 0.37025338 0.36787316 0.3654308\n",
      " 0.36293933 0.36041105 0.35785869 0.3552947  0.35273084 0.35017851\n",
      " 0.34764853 0.34515086 0.34269434 0.34028679]\n",
      "24 day output [[0.33793488]]\n",
      "25 day input [0.21896305 0.21548051 0.20938615 0.19632672 0.19502076 0.1937148\n",
      " 0.20416235 0.20198578 0.2085155  0.2146099  0.22679872 0.21939835\n",
      " 0.2146099  0.21678648 0.21983366 0.22592806 0.21852774 0.22592806\n",
      " 0.25814132 0.24769377 0.23768157 0.24899974 0.25596475 0.24812908\n",
      " 0.23637561 0.23202247 0.23289308 0.23245778 0.21765709 0.21199803\n",
      " 0.20938615 0.22026901 0.21678648 0.21678648 0.22288088 0.22679872\n",
      " 0.22375149 0.21852774 0.21852774 0.21069207 0.21243333 0.21199803\n",
      " 0.20982146 0.22549276 0.22375149 0.24203472 0.235505   0.23202247\n",
      " 0.22549276 0.22331619 0.23898749 0.23332843 0.24159937 0.27773046\n",
      " 0.29601364 0.30907307 0.33823915 0.3182147  0.33170943 0.33867445\n",
      " 0.33867445 0.3434629  0.33258005 0.35608702 0.36087547 0.36696988\n",
      " 0.37306428 0.38177057 0.38351183 0.39613591 0.3856884  0.38612368\n",
      " 0.38742963 0.38089991 0.39178277 0.38953364 0.38812646 0.38676667\n",
      " 0.38541004 0.38398156 0.38242748 0.3807247  0.37887299 0.37688383\n",
      " 0.37477329 0.37255809 0.37025338 0.36787316 0.3654308  0.36293933\n",
      " 0.36041105 0.35785869 0.3552947  0.35273084 0.35017851 0.34764853\n",
      " 0.34515086 0.34269434 0.34028679 0.33793488]\n",
      "25 day output [[0.3356441]]\n",
      "26 day input [0.21548051 0.20938615 0.19632672 0.19502076 0.1937148  0.20416235\n",
      " 0.20198578 0.2085155  0.2146099  0.22679872 0.21939835 0.2146099\n",
      " 0.21678648 0.21983366 0.22592806 0.21852774 0.22592806 0.25814132\n",
      " 0.24769377 0.23768157 0.24899974 0.25596475 0.24812908 0.23637561\n",
      " 0.23202247 0.23289308 0.23245778 0.21765709 0.21199803 0.20938615\n",
      " 0.22026901 0.21678648 0.21678648 0.22288088 0.22679872 0.22375149\n",
      " 0.21852774 0.21852774 0.21069207 0.21243333 0.21199803 0.20982146\n",
      " 0.22549276 0.22375149 0.24203472 0.235505   0.23202247 0.22549276\n",
      " 0.22331619 0.23898749 0.23332843 0.24159937 0.27773046 0.29601364\n",
      " 0.30907307 0.33823915 0.3182147  0.33170943 0.33867445 0.33867445\n",
      " 0.3434629  0.33258005 0.35608702 0.36087547 0.36696988 0.37306428\n",
      " 0.38177057 0.38351183 0.39613591 0.3856884  0.38612368 0.38742963\n",
      " 0.38089991 0.39178277 0.38953364 0.38812646 0.38676667 0.38541004\n",
      " 0.38398156 0.38242748 0.3807247  0.37887299 0.37688383 0.37477329\n",
      " 0.37255809 0.37025338 0.36787316 0.3654308  0.36293933 0.36041105\n",
      " 0.35785869 0.3552947  0.35273084 0.35017851 0.34764853 0.34515086\n",
      " 0.34269434 0.34028679 0.33793488 0.3356441 ]\n",
      "26 day output [[0.33341932]]\n",
      "27 day input [0.20938615 0.19632672 0.19502076 0.1937148  0.20416235 0.20198578\n",
      " 0.2085155  0.2146099  0.22679872 0.21939835 0.2146099  0.21678648\n",
      " 0.21983366 0.22592806 0.21852774 0.22592806 0.25814132 0.24769377\n",
      " 0.23768157 0.24899974 0.25596475 0.24812908 0.23637561 0.23202247\n",
      " 0.23289308 0.23245778 0.21765709 0.21199803 0.20938615 0.22026901\n",
      " 0.21678648 0.21678648 0.22288088 0.22679872 0.22375149 0.21852774\n",
      " 0.21852774 0.21069207 0.21243333 0.21199803 0.20982146 0.22549276\n",
      " 0.22375149 0.24203472 0.235505   0.23202247 0.22549276 0.22331619\n",
      " 0.23898749 0.23332843 0.24159937 0.27773046 0.29601364 0.30907307\n",
      " 0.33823915 0.3182147  0.33170943 0.33867445 0.33867445 0.3434629\n",
      " 0.33258005 0.35608702 0.36087547 0.36696988 0.37306428 0.38177057\n",
      " 0.38351183 0.39613591 0.3856884  0.38612368 0.38742963 0.38089991\n",
      " 0.39178277 0.38953364 0.38812646 0.38676667 0.38541004 0.38398156\n",
      " 0.38242748 0.3807247  0.37887299 0.37688383 0.37477329 0.37255809\n",
      " 0.37025338 0.36787316 0.3654308  0.36293933 0.36041105 0.35785869\n",
      " 0.3552947  0.35273084 0.35017851 0.34764853 0.34515086 0.34269434\n",
      " 0.34028679 0.33793488 0.3356441  0.33341932]\n"
     ]
    },
    {
     "name": "stdout",
     "output_type": "stream",
     "text": [
      "27 day output [[0.33126336]]\n",
      "28 day input [0.19632672 0.19502076 0.1937148  0.20416235 0.20198578 0.2085155\n",
      " 0.2146099  0.22679872 0.21939835 0.2146099  0.21678648 0.21983366\n",
      " 0.22592806 0.21852774 0.22592806 0.25814132 0.24769377 0.23768157\n",
      " 0.24899974 0.25596475 0.24812908 0.23637561 0.23202247 0.23289308\n",
      " 0.23245778 0.21765709 0.21199803 0.20938615 0.22026901 0.21678648\n",
      " 0.21678648 0.22288088 0.22679872 0.22375149 0.21852774 0.21852774\n",
      " 0.21069207 0.21243333 0.21199803 0.20982146 0.22549276 0.22375149\n",
      " 0.24203472 0.235505   0.23202247 0.22549276 0.22331619 0.23898749\n",
      " 0.23332843 0.24159937 0.27773046 0.29601364 0.30907307 0.33823915\n",
      " 0.3182147  0.33170943 0.33867445 0.33867445 0.3434629  0.33258005\n",
      " 0.35608702 0.36087547 0.36696988 0.37306428 0.38177057 0.38351183\n",
      " 0.39613591 0.3856884  0.38612368 0.38742963 0.38089991 0.39178277\n",
      " 0.38953364 0.38812646 0.38676667 0.38541004 0.38398156 0.38242748\n",
      " 0.3807247  0.37887299 0.37688383 0.37477329 0.37255809 0.37025338\n",
      " 0.36787316 0.3654308  0.36293933 0.36041105 0.35785869 0.3552947\n",
      " 0.35273084 0.35017851 0.34764853 0.34515086 0.34269434 0.34028679\n",
      " 0.33793488 0.3356441  0.33341932 0.33126336]\n",
      "28 day output [[0.3291787]]\n",
      "29 day input [0.19502076 0.1937148  0.20416235 0.20198578 0.2085155  0.2146099\n",
      " 0.22679872 0.21939835 0.2146099  0.21678648 0.21983366 0.22592806\n",
      " 0.21852774 0.22592806 0.25814132 0.24769377 0.23768157 0.24899974\n",
      " 0.25596475 0.24812908 0.23637561 0.23202247 0.23289308 0.23245778\n",
      " 0.21765709 0.21199803 0.20938615 0.22026901 0.21678648 0.21678648\n",
      " 0.22288088 0.22679872 0.22375149 0.21852774 0.21852774 0.21069207\n",
      " 0.21243333 0.21199803 0.20982146 0.22549276 0.22375149 0.24203472\n",
      " 0.235505   0.23202247 0.22549276 0.22331619 0.23898749 0.23332843\n",
      " 0.24159937 0.27773046 0.29601364 0.30907307 0.33823915 0.3182147\n",
      " 0.33170943 0.33867445 0.33867445 0.3434629  0.33258005 0.35608702\n",
      " 0.36087547 0.36696988 0.37306428 0.38177057 0.38351183 0.39613591\n",
      " 0.3856884  0.38612368 0.38742963 0.38089991 0.39178277 0.38953364\n",
      " 0.38812646 0.38676667 0.38541004 0.38398156 0.38242748 0.3807247\n",
      " 0.37887299 0.37688383 0.37477329 0.37255809 0.37025338 0.36787316\n",
      " 0.3654308  0.36293933 0.36041105 0.35785869 0.3552947  0.35273084\n",
      " 0.35017851 0.34764853 0.34515086 0.34269434 0.34028679 0.33793488\n",
      " 0.3356441  0.33341932 0.33126336 0.32917869]\n",
      "29 day output [[0.32716665]]\n",
      "[[0.3895336389541626], [0.3881264626979828], [0.3867666721343994], [0.38541004061698914], [0.3839815557003021], [0.38242748379707336], [0.38072469830513], [0.37887299060821533], [0.3768838346004486], [0.3747732937335968], [0.3725580871105194], [0.37025338411331177], [0.3678731620311737], [0.3654308021068573], [0.36293932795524597], [0.36041104793548584], [0.35785868763923645], [0.35529470443725586], [0.3527308404445648], [0.3501785099506378], [0.3476485311985016], [0.3451508581638336], [0.34269434213638306], [0.3402867913246155], [0.3379348814487457], [0.33564409613609314], [0.3334193229675293], [0.33126336336135864], [0.32917869091033936], [0.3271666467189789]]\n"
     ]
    }
   ],
   "source": [
    "# demonstrate prediction for next 10 days\n",
    "from numpy import array\n",
    "\n",
    "lst_output=[]\n",
    "n_steps=100\n",
    "i=0\n",
    "while(i<30):\n",
    "    \n",
    "    if(len(temp_input)>100):\n",
    "        #print(temp_input)\n",
    "        x_input=np.array(temp_input[1:])\n",
    "        print(\"{} day input {}\".format(i,x_input))\n",
    "        x_input=x_input.reshape(1,-1)\n",
    "        x_input = x_input.reshape((1, n_steps, 1))\n",
    "        #print(x_input)\n",
    "        yhat = model.predict(x_input, verbose=0)\n",
    "        print(\"{} day output {}\".format(i,yhat))\n",
    "        temp_input.extend(yhat[0].tolist())\n",
    "        temp_input=temp_input[1:]\n",
    "        #print(temp_input)\n",
    "        lst_output.extend(yhat.tolist())\n",
    "        i=i+1\n",
    "    else:\n",
    "        x_input = x_input.reshape((1, n_steps,1))\n",
    "        yhat = model.predict(x_input, verbose=0)\n",
    "        print(yhat[0])\n",
    "        temp_input.extend(yhat[0].tolist())\n",
    "        print(len(temp_input))\n",
    "        lst_output.extend(yhat.tolist())\n",
    "        i=i+1\n",
    "    \n",
    "\n",
    "print(lst_output)"
   ]
  },
  {
   "cell_type": "code",
   "execution_count": 88,
   "id": "208e0fa7",
   "metadata": {},
   "outputs": [],
   "source": [
    "day_new=np.arange(1,101)\n",
    "day_pred=np.arange(101,131)\n"
   ]
  },
  {
   "cell_type": "code",
   "execution_count": 89,
   "id": "406345b9",
   "metadata": {},
   "outputs": [],
   "source": [
    "import matplotlib.pyplot as plt\n"
   ]
  },
  {
   "cell_type": "code",
   "execution_count": 90,
   "id": "9b88c5ac",
   "metadata": {},
   "outputs": [
    {
     "data": {
      "text/plain": [
       "1235"
      ]
     },
     "execution_count": 90,
     "metadata": {},
     "output_type": "execute_result"
    }
   ],
   "source": [
    "len(df1)\n"
   ]
  },
  {
   "cell_type": "code",
   "execution_count": 91,
   "id": "e31e2f25",
   "metadata": {},
   "outputs": [
    {
     "data": {
      "text/plain": [
       "[<matplotlib.lines.Line2D at 0x7f7db6265880>]"
      ]
     },
     "execution_count": 91,
     "metadata": {},
     "output_type": "execute_result"
    },
    {
     "data": {
      "image/png": "[encoded data removed]",
      "text/plain": [
       "<Figure size 432x288 with 1 Axes>"
      ]
     },
     "metadata": {
      "needs_background": "light"
     },
     "output_type": "display_data"
    }
   ],
   "source": [
    "plt.plot(day_new,scaler.inverse_transform(df1[1135:]))\n",
    "plt.plot(day_pred,scaler.inverse_transform(lst_output))"
   ]
  },
  {
   "cell_type": "code",
   "execution_count": 92,
   "id": "9830b211",
   "metadata": {},
   "outputs": [
    {
     "data": {
      "text/plain": [
       "[<matplotlib.lines.Line2D at 0x7f7db61a7160>]"
      ]
     },
     "execution_count": 92,
     "metadata": {},
     "output_type": "execute_result"
    },
    {
     "data": {
      "image/png": "[encoded data removed]",
      "text/plain": [
       "<Figure size 432x288 with 1 Axes>"
      ]
     },
     "metadata": {
      "needs_background": "light"
     },
     "output_type": "display_data"
    }
   ],
   "source": [
    "df3=df1.tolist()\n",
    "df3.extend(lst_output)\n",
    "plt.plot(df3[1200:])\n"
   ]
  },
  {
   "cell_type": "code",
   "execution_count": 93,
   "id": "63f22e32",
   "metadata": {},
   "outputs": [],
   "source": [
    "df3=scaler.inverse_transform(df3).tolist()\n"
   ]
  },
  {
   "cell_type": "code",
   "execution_count": 94,
   "id": "17d41d08",
   "metadata": {},
   "outputs": [
    {
     "data": {
      "text/plain": [
       "[<matplotlib.lines.Line2D at 0x7f7db62aac70>]"
      ]
     },
     "execution_count": 94,
     "metadata": {},
     "output_type": "execute_result"
    },
    {
     "data": {
      "image/png": "[encoded data removed]",
      "text/plain": [
       "<Figure size 432x288 with 1 Axes>"
      ]
     },
     "metadata": {
      "needs_background": "light"
     },
     "output_type": "display_data"
    }
   ],
   "source": [
    "plt.plot(df3)\n"
   ]
  },
  {
   "cell_type": "code",
   "execution_count": null,
   "id": "f82091a7",
   "metadata": {},
   "outputs": [],
   "source": []
  }
 ],
 "metadata": {
  "kernelspec": {
   "display_name": "Python 3",
   "language": "python",
   "name": "python3"
  },
  "language_info": {
   "codemirror_mode": {
    "name": "ipython",
    "version": 3
   },
   "file_extension": ".py",
   "mimetype": "text/x-python",
   "name": "python",
   "nbconvert_exporter": "python",
   "pygments_lexer": "ipython3",
   "version": "3.8.8"
  }
 },
 "nbformat": 4,
 "nbformat_minor": 5
}
